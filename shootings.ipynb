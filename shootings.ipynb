{
 "cells": [
  {
   "cell_type": "markdown",
   "metadata": {},
   "source": [
    "# Racism on Recent Killings"
   ]
  },
  {
   "cell_type": "markdown",
   "metadata": {},
   "source": [
    "### Context"
   ]
  },
  {
   "cell_type": "markdown",
   "metadata": {},
   "source": [
    "In the recent killings, a hot topic came into being, \"Racism\".\n",
    "So, I chose to gather some data to take out some insights and analyze the story around racism in America.\n"
   ]
  },
  {
   "cell_type": "markdown",
   "metadata": {},
   "source": [
    "### Content\n"
   ]
  },
  {
   "cell_type": "markdown",
   "metadata": {},
   "source": [
    "It contains basic data about people like their name, age, gender and race. Along with it, is the shooting/killing information, like date of event, where it happened? how they were shot? did they attack? Were they holding weapons? Did they show any mental illness? Was the policeman wearing a camera/was the incident recorded? Did the suspect flee? Apart from that, a category column holds type of weapon used by the suspect\n"
   ]
  },
  {
   "cell_type": "markdown",
   "metadata": {},
   "source": [
    "## Introduction"
   ]
  },
  {
   "cell_type": "code",
   "execution_count": 1,
   "metadata": {
    "scrolled": true
   },
   "outputs": [],
   "source": [
    "import pandas as pd\n",
    "import numpy as np\n",
    "import matplotlib.pyplot as plt\n",
    "from sklearn.model_selection import train_test_split\n",
    "from sklearn.linear_model import LogisticRegression\n",
    "\n",
    "df = pd.read_csv('shootings.csv')"
   ]
  },
  {
   "cell_type": "markdown",
   "metadata": {},
   "source": [
    "We first take a look at the variables we will be working with:"
   ]
  },
  {
   "cell_type": "code",
   "execution_count": 2,
   "metadata": {
    "scrolled": true
   },
   "outputs": [
    {
     "data": {
      "text/html": [
       "<div>\n",
       "<style scoped>\n",
       "    .dataframe tbody tr th:only-of-type {\n",
       "        vertical-align: middle;\n",
       "    }\n",
       "\n",
       "    .dataframe tbody tr th {\n",
       "        vertical-align: top;\n",
       "    }\n",
       "\n",
       "    .dataframe thead th {\n",
       "        text-align: right;\n",
       "    }\n",
       "</style>\n",
       "<table border=\"1\" class=\"dataframe\">\n",
       "  <thead>\n",
       "    <tr style=\"text-align: right;\">\n",
       "      <th></th>\n",
       "      <th>id</th>\n",
       "      <th>name</th>\n",
       "      <th>date</th>\n",
       "      <th>manner_of_death</th>\n",
       "      <th>armed</th>\n",
       "      <th>age</th>\n",
       "      <th>gender</th>\n",
       "      <th>race</th>\n",
       "      <th>city</th>\n",
       "      <th>state</th>\n",
       "      <th>signs_of_mental_illness</th>\n",
       "      <th>threat_level</th>\n",
       "      <th>flee</th>\n",
       "      <th>body_camera</th>\n",
       "      <th>arms_category</th>\n",
       "    </tr>\n",
       "  </thead>\n",
       "  <tbody>\n",
       "    <tr>\n",
       "      <th>0</th>\n",
       "      <td>3</td>\n",
       "      <td>Tim Elliot</td>\n",
       "      <td>2015-01-02</td>\n",
       "      <td>shot</td>\n",
       "      <td>gun</td>\n",
       "      <td>53.0</td>\n",
       "      <td>M</td>\n",
       "      <td>Asian</td>\n",
       "      <td>Shelton</td>\n",
       "      <td>WA</td>\n",
       "      <td>True</td>\n",
       "      <td>attack</td>\n",
       "      <td>Not fleeing</td>\n",
       "      <td>False</td>\n",
       "      <td>Guns</td>\n",
       "    </tr>\n",
       "    <tr>\n",
       "      <th>1</th>\n",
       "      <td>4</td>\n",
       "      <td>Lewis Lee Lembke</td>\n",
       "      <td>2015-01-02</td>\n",
       "      <td>shot</td>\n",
       "      <td>gun</td>\n",
       "      <td>47.0</td>\n",
       "      <td>M</td>\n",
       "      <td>White</td>\n",
       "      <td>Aloha</td>\n",
       "      <td>OR</td>\n",
       "      <td>False</td>\n",
       "      <td>attack</td>\n",
       "      <td>Not fleeing</td>\n",
       "      <td>False</td>\n",
       "      <td>Guns</td>\n",
       "    </tr>\n",
       "    <tr>\n",
       "      <th>2</th>\n",
       "      <td>5</td>\n",
       "      <td>John Paul Quintero</td>\n",
       "      <td>2015-01-03</td>\n",
       "      <td>shot and Tasered</td>\n",
       "      <td>unarmed</td>\n",
       "      <td>23.0</td>\n",
       "      <td>M</td>\n",
       "      <td>Hispanic</td>\n",
       "      <td>Wichita</td>\n",
       "      <td>KS</td>\n",
       "      <td>False</td>\n",
       "      <td>other</td>\n",
       "      <td>Not fleeing</td>\n",
       "      <td>False</td>\n",
       "      <td>Unarmed</td>\n",
       "    </tr>\n",
       "    <tr>\n",
       "      <th>3</th>\n",
       "      <td>8</td>\n",
       "      <td>Matthew Hoffman</td>\n",
       "      <td>2015-01-04</td>\n",
       "      <td>shot</td>\n",
       "      <td>toy weapon</td>\n",
       "      <td>32.0</td>\n",
       "      <td>M</td>\n",
       "      <td>White</td>\n",
       "      <td>San Francisco</td>\n",
       "      <td>CA</td>\n",
       "      <td>True</td>\n",
       "      <td>attack</td>\n",
       "      <td>Not fleeing</td>\n",
       "      <td>False</td>\n",
       "      <td>Other unusual objects</td>\n",
       "    </tr>\n",
       "    <tr>\n",
       "      <th>4</th>\n",
       "      <td>9</td>\n",
       "      <td>Michael Rodriguez</td>\n",
       "      <td>2015-01-04</td>\n",
       "      <td>shot</td>\n",
       "      <td>nail gun</td>\n",
       "      <td>39.0</td>\n",
       "      <td>M</td>\n",
       "      <td>Hispanic</td>\n",
       "      <td>Evans</td>\n",
       "      <td>CO</td>\n",
       "      <td>False</td>\n",
       "      <td>attack</td>\n",
       "      <td>Not fleeing</td>\n",
       "      <td>False</td>\n",
       "      <td>Piercing objects</td>\n",
       "    </tr>\n",
       "  </tbody>\n",
       "</table>\n",
       "</div>"
      ],
      "text/plain": [
       "   id                name        date   manner_of_death       armed   age  \\\n",
       "0   3          Tim Elliot  2015-01-02              shot         gun  53.0   \n",
       "1   4    Lewis Lee Lembke  2015-01-02              shot         gun  47.0   \n",
       "2   5  John Paul Quintero  2015-01-03  shot and Tasered     unarmed  23.0   \n",
       "3   8     Matthew Hoffman  2015-01-04              shot  toy weapon  32.0   \n",
       "4   9   Michael Rodriguez  2015-01-04              shot    nail gun  39.0   \n",
       "\n",
       "  gender      race           city state  signs_of_mental_illness threat_level  \\\n",
       "0      M     Asian        Shelton    WA                     True       attack   \n",
       "1      M     White          Aloha    OR                    False       attack   \n",
       "2      M  Hispanic        Wichita    KS                    False        other   \n",
       "3      M     White  San Francisco    CA                     True       attack   \n",
       "4      M  Hispanic          Evans    CO                    False       attack   \n",
       "\n",
       "          flee  body_camera          arms_category  \n",
       "0  Not fleeing        False                   Guns  \n",
       "1  Not fleeing        False                   Guns  \n",
       "2  Not fleeing        False                Unarmed  \n",
       "3  Not fleeing        False  Other unusual objects  \n",
       "4  Not fleeing        False       Piercing objects  "
      ]
     },
     "execution_count": 2,
     "metadata": {},
     "output_type": "execute_result"
    }
   ],
   "source": [
    "df.head()"
   ]
  },
  {
   "cell_type": "code",
   "execution_count": 3,
   "metadata": {
    "scrolled": true
   },
   "outputs": [
    {
     "name": "stdout",
     "output_type": "stream",
     "text": [
      "<class 'pandas.core.frame.DataFrame'>\n",
      "RangeIndex: 4895 entries, 0 to 4894\n",
      "Data columns (total 15 columns):\n",
      " #   Column                   Non-Null Count  Dtype  \n",
      "---  ------                   --------------  -----  \n",
      " 0   id                       4895 non-null   int64  \n",
      " 1   name                     4895 non-null   object \n",
      " 2   date                     4895 non-null   object \n",
      " 3   manner_of_death          4895 non-null   object \n",
      " 4   armed                    4895 non-null   object \n",
      " 5   age                      4895 non-null   float64\n",
      " 6   gender                   4895 non-null   object \n",
      " 7   race                     4895 non-null   object \n",
      " 8   city                     4895 non-null   object \n",
      " 9   state                    4895 non-null   object \n",
      " 10  signs_of_mental_illness  4895 non-null   bool   \n",
      " 11  threat_level             4895 non-null   object \n",
      " 12  flee                     4895 non-null   object \n",
      " 13  body_camera              4895 non-null   bool   \n",
      " 14  arms_category            4895 non-null   object \n",
      "dtypes: bool(2), float64(1), int64(1), object(11)\n",
      "memory usage: 506.8+ KB\n"
     ]
    }
   ],
   "source": [
    "df.info()"
   ]
  },
  {
   "cell_type": "markdown",
   "metadata": {},
   "source": [
    "Some adjustements we could make, would be to:\n",
    "\n",
    "1. Change 'date' to dt\n",
    "2. Set the 'id' to be the index\n",
    "3. Check if 'flee' can be turned to bool"
   ]
  },
  {
   "cell_type": "code",
   "execution_count": 4,
   "metadata": {},
   "outputs": [
    {
     "data": {
      "text/plain": [
       "0   2015-01-02\n",
       "1   2015-01-02\n",
       "2   2015-01-03\n",
       "3   2015-01-04\n",
       "4   2015-01-04\n",
       "Name: date, dtype: datetime64[ns]"
      ]
     },
     "execution_count": 4,
     "metadata": {},
     "output_type": "execute_result"
    }
   ],
   "source": [
    "df['date'] = pd.to_datetime(df['date'],format = '%Y-%m-%d')\n",
    "df['date'].head()"
   ]
  },
  {
   "cell_type": "code",
   "execution_count": 5,
   "metadata": {},
   "outputs": [
    {
     "name": "stdout",
     "output_type": "stream",
     "text": [
      "(4895,)\n"
     ]
    },
    {
     "data": {
      "text/html": [
       "<div>\n",
       "<style scoped>\n",
       "    .dataframe tbody tr th:only-of-type {\n",
       "        vertical-align: middle;\n",
       "    }\n",
       "\n",
       "    .dataframe tbody tr th {\n",
       "        vertical-align: top;\n",
       "    }\n",
       "\n",
       "    .dataframe thead th {\n",
       "        text-align: right;\n",
       "    }\n",
       "</style>\n",
       "<table border=\"1\" class=\"dataframe\">\n",
       "  <thead>\n",
       "    <tr style=\"text-align: right;\">\n",
       "      <th></th>\n",
       "      <th>name</th>\n",
       "      <th>date</th>\n",
       "      <th>manner_of_death</th>\n",
       "      <th>armed</th>\n",
       "      <th>age</th>\n",
       "      <th>gender</th>\n",
       "      <th>race</th>\n",
       "      <th>city</th>\n",
       "      <th>state</th>\n",
       "      <th>signs_of_mental_illness</th>\n",
       "      <th>threat_level</th>\n",
       "      <th>flee</th>\n",
       "      <th>body_camera</th>\n",
       "      <th>arms_category</th>\n",
       "    </tr>\n",
       "    <tr>\n",
       "      <th>id</th>\n",
       "      <th></th>\n",
       "      <th></th>\n",
       "      <th></th>\n",
       "      <th></th>\n",
       "      <th></th>\n",
       "      <th></th>\n",
       "      <th></th>\n",
       "      <th></th>\n",
       "      <th></th>\n",
       "      <th></th>\n",
       "      <th></th>\n",
       "      <th></th>\n",
       "      <th></th>\n",
       "      <th></th>\n",
       "    </tr>\n",
       "  </thead>\n",
       "  <tbody>\n",
       "    <tr>\n",
       "      <th>3</th>\n",
       "      <td>Tim Elliot</td>\n",
       "      <td>2015-01-02</td>\n",
       "      <td>shot</td>\n",
       "      <td>gun</td>\n",
       "      <td>53.0</td>\n",
       "      <td>M</td>\n",
       "      <td>Asian</td>\n",
       "      <td>Shelton</td>\n",
       "      <td>WA</td>\n",
       "      <td>True</td>\n",
       "      <td>attack</td>\n",
       "      <td>Not fleeing</td>\n",
       "      <td>False</td>\n",
       "      <td>Guns</td>\n",
       "    </tr>\n",
       "    <tr>\n",
       "      <th>4</th>\n",
       "      <td>Lewis Lee Lembke</td>\n",
       "      <td>2015-01-02</td>\n",
       "      <td>shot</td>\n",
       "      <td>gun</td>\n",
       "      <td>47.0</td>\n",
       "      <td>M</td>\n",
       "      <td>White</td>\n",
       "      <td>Aloha</td>\n",
       "      <td>OR</td>\n",
       "      <td>False</td>\n",
       "      <td>attack</td>\n",
       "      <td>Not fleeing</td>\n",
       "      <td>False</td>\n",
       "      <td>Guns</td>\n",
       "    </tr>\n",
       "    <tr>\n",
       "      <th>5</th>\n",
       "      <td>John Paul Quintero</td>\n",
       "      <td>2015-01-03</td>\n",
       "      <td>shot and Tasered</td>\n",
       "      <td>unarmed</td>\n",
       "      <td>23.0</td>\n",
       "      <td>M</td>\n",
       "      <td>Hispanic</td>\n",
       "      <td>Wichita</td>\n",
       "      <td>KS</td>\n",
       "      <td>False</td>\n",
       "      <td>other</td>\n",
       "      <td>Not fleeing</td>\n",
       "      <td>False</td>\n",
       "      <td>Unarmed</td>\n",
       "    </tr>\n",
       "    <tr>\n",
       "      <th>8</th>\n",
       "      <td>Matthew Hoffman</td>\n",
       "      <td>2015-01-04</td>\n",
       "      <td>shot</td>\n",
       "      <td>toy weapon</td>\n",
       "      <td>32.0</td>\n",
       "      <td>M</td>\n",
       "      <td>White</td>\n",
       "      <td>San Francisco</td>\n",
       "      <td>CA</td>\n",
       "      <td>True</td>\n",
       "      <td>attack</td>\n",
       "      <td>Not fleeing</td>\n",
       "      <td>False</td>\n",
       "      <td>Other unusual objects</td>\n",
       "    </tr>\n",
       "    <tr>\n",
       "      <th>9</th>\n",
       "      <td>Michael Rodriguez</td>\n",
       "      <td>2015-01-04</td>\n",
       "      <td>shot</td>\n",
       "      <td>nail gun</td>\n",
       "      <td>39.0</td>\n",
       "      <td>M</td>\n",
       "      <td>Hispanic</td>\n",
       "      <td>Evans</td>\n",
       "      <td>CO</td>\n",
       "      <td>False</td>\n",
       "      <td>attack</td>\n",
       "      <td>Not fleeing</td>\n",
       "      <td>False</td>\n",
       "      <td>Piercing objects</td>\n",
       "    </tr>\n",
       "  </tbody>\n",
       "</table>\n",
       "</div>"
      ],
      "text/plain": [
       "                  name       date   manner_of_death       armed   age gender  \\\n",
       "id                                                                             \n",
       "3           Tim Elliot 2015-01-02              shot         gun  53.0      M   \n",
       "4     Lewis Lee Lembke 2015-01-02              shot         gun  47.0      M   \n",
       "5   John Paul Quintero 2015-01-03  shot and Tasered     unarmed  23.0      M   \n",
       "8      Matthew Hoffman 2015-01-04              shot  toy weapon  32.0      M   \n",
       "9    Michael Rodriguez 2015-01-04              shot    nail gun  39.0      M   \n",
       "\n",
       "        race           city state  signs_of_mental_illness threat_level  \\\n",
       "id                                                                        \n",
       "3      Asian        Shelton    WA                     True       attack   \n",
       "4      White          Aloha    OR                    False       attack   \n",
       "5   Hispanic        Wichita    KS                    False        other   \n",
       "8      White  San Francisco    CA                     True       attack   \n",
       "9   Hispanic          Evans    CO                    False       attack   \n",
       "\n",
       "           flee  body_camera          arms_category  \n",
       "id                                                   \n",
       "3   Not fleeing        False                   Guns  \n",
       "4   Not fleeing        False                   Guns  \n",
       "5   Not fleeing        False                Unarmed  \n",
       "8   Not fleeing        False  Other unusual objects  \n",
       "9   Not fleeing        False       Piercing objects  "
      ]
     },
     "execution_count": 5,
     "metadata": {},
     "output_type": "execute_result"
    }
   ],
   "source": [
    "print(df['id'].unique().shape) #There are 4895 registers, equal to the total number of rows.\n",
    "df.index = df['id']\n",
    "df.drop('id', inplace = True, axis = 1)\n",
    "df.head()"
   ]
  },
  {
   "cell_type": "code",
   "execution_count": 6,
   "metadata": {
    "scrolled": false
   },
   "outputs": [
    {
     "data": {
      "text/plain": [
       "count            4895\n",
       "unique              4\n",
       "top       Not fleeing\n",
       "freq             3073\n",
       "Name: flee, dtype: object"
      ]
     },
     "execution_count": 6,
     "metadata": {},
     "output_type": "execute_result"
    }
   ],
   "source": [
    "df['flee'].describe() #There are 4 unique kinds, so perhaps the variable can't be turned to bool."
   ]
  },
  {
   "cell_type": "code",
   "execution_count": 7,
   "metadata": {
    "scrolled": true
   },
   "outputs": [
    {
     "name": "stdout",
     "output_type": "stream",
     "text": [
      "['Not fleeing' 'Car' 'Foot' 'Other']\n"
     ]
    },
    {
     "data": {
      "text/plain": [
       "Not fleeing    3073\n",
       "Car             820\n",
       "Foot            642\n",
       "Other           360\n",
       "Name: flee, dtype: int64"
      ]
     },
     "execution_count": 7,
     "metadata": {},
     "output_type": "execute_result"
    }
   ],
   "source": [
    "print(df['flee'].unique())\n",
    "df['flee'].value_counts() #Whilst we can't turn this one into bool, we can create a new one that captures this"
   ]
  },
  {
   "cell_type": "code",
   "execution_count": 8,
   "metadata": {},
   "outputs": [
    {
     "name": "stdout",
     "output_type": "stream",
     "text": [
      "[False  True]\n"
     ]
    },
    {
     "data": {
      "text/plain": [
       "count      4895\n",
       "unique        2\n",
       "top       False\n",
       "freq       3073\n",
       "Name: was_fleeing, dtype: object"
      ]
     },
     "execution_count": 8,
     "metadata": {},
     "output_type": "execute_result"
    }
   ],
   "source": [
    "df['was_fleeing'] = [x != 'Not fleeing' for x in df['flee']]\n",
    "print(df['was_fleeing'].unique())\n",
    "df['was_fleeing'].describe()"
   ]
  },
  {
   "cell_type": "markdown",
   "metadata": {},
   "source": [
    "Given the purpose of what we are trying to verify, that is, if the recent killings have been influenced by racial prejudices, we can start by looking at the most obvious plot: The amount of people killed by race."
   ]
  },
  {
   "cell_type": "code",
   "execution_count": 9,
   "metadata": {},
   "outputs": [
    {
     "data": {
      "text/plain": [
       "<AxesSubplot:>"
      ]
     },
     "execution_count": 9,
     "metadata": {},
     "output_type": "execute_result"
    },
    {
     "data": {
      "image/png": "[encoded data removed]",
      "text/plain": [
       "<Figure size 432x288 with 1 Axes>"
      ]
     },
     "metadata": {
      "needs_background": "light"
     },
     "output_type": "display_data"
    }
   ],
   "source": [
    "df['race'].value_counts().plot(kind = 'bar')"
   ]
  },
  {
   "cell_type": "markdown",
   "metadata": {},
   "source": [
    "However, this is a misleading plot. The reason for this is that, the majority of the US population is white, so we can't just decide based on totals. For this reason, we need to know the total population from each race, so that we can rather look at the proportion of people killed with respect to the total population, by race, which is way more useful than only the totals."
   ]
  },
  {
   "cell_type": "markdown",
   "metadata": {},
   "source": [
    "## Mining and Wrangling"
   ]
  },
  {
   "cell_type": "markdown",
   "metadata": {},
   "source": [
    "#### Note: The following code and text is mostly dedicated to data mining and some wrangling. There is a note on where the analysis is retaken."
   ]
  },
  {
   "cell_type": "markdown",
   "metadata": {},
   "source": [
    "We will use the information of race by state that can be found on Wikipedia's entry for 'Demographics of the United States' (url : https://en.wikipedia.org/wiki/Demographics_of_the_United_States#cite_note-ACS-94 )\n",
    "\n",
    "The information that will be used is the following: Racial breakdown of population by state (plus D.C. and Puerto Rico), 2015.<sup>i</sup> The table contains data for every race except Latino/Hispanic, for which we have a classification in our dataset (the data in Wikipedia, more specifically the U.S. Office of Management and Budget (OMB), classifies Latino/Hispanic not as a race, but rather as a classification for 'origin').\n",
    "\n",
    "Also, I will use the code provided in https://www.thinkingondata.com/web-scraping-wikipedia-using-beautiful-soup/ , as I will be using BeautifulSoup to acquire the data, with a few modifications to achieve what we want\n",
    "\n",
    "Notice, to replicate this it is necessary to install bs4 (type in terminal: python -m pip install bs4)"
   ]
  },
  {
   "cell_type": "code",
   "execution_count": 10,
   "metadata": {},
   "outputs": [],
   "source": [
    "# import the library we use to open URLs\n",
    "import urllib.request\n",
    "\n",
    "# import the BeautifulSoup library so we can parse HTML and XML documents\n",
    "from bs4 import BeautifulSoup\n",
    "\n",
    "# specify which URL/web page we are going to be scraping\n",
    "url = \"https://en.wikipedia.org/wiki/Demographics_of_the_United_States#cite_note-ACS-94\"\n",
    "\n",
    "# open the url using urllib.request and put the HTML into the page variable\n",
    "page = urllib.request.urlopen(url)\n",
    "\n",
    "# parse the HTML from our URL into the BeautifulSoup parse tree format\n",
    "soup = BeautifulSoup(page, \"html.parser\")\n",
    "\n",
    "all_tables = soup.find_all(\"table\")"
   ]
  },
  {
   "cell_type": "code",
   "execution_count": 11,
   "metadata": {
    "scrolled": true
   },
   "outputs": [
    {
     "data": {
      "text/html": [
       "<div>\n",
       "<style scoped>\n",
       "    .dataframe tbody tr th:only-of-type {\n",
       "        vertical-align: middle;\n",
       "    }\n",
       "\n",
       "    .dataframe tbody tr th {\n",
       "        vertical-align: top;\n",
       "    }\n",
       "\n",
       "    .dataframe thead th {\n",
       "        text-align: right;\n",
       "    }\n",
       "</style>\n",
       "<table border=\"1\" class=\"dataframe\">\n",
       "  <thead>\n",
       "    <tr style=\"text-align: right;\">\n",
       "      <th></th>\n",
       "      <th>State or territory</th>\n",
       "      <th>Population(2015 est.)</th>\n",
       "      <th>White</th>\n",
       "      <th>Black orAfrican American</th>\n",
       "      <th>American Indianand Alaska Native</th>\n",
       "      <th>Asian</th>\n",
       "      <th>Native Hawaiian andOther Pacific Islander</th>\n",
       "      <th>Some other race</th>\n",
       "      <th>Two or more races</th>\n",
       "    </tr>\n",
       "  </thead>\n",
       "  <tbody>\n",
       "    <tr>\n",
       "      <th>0</th>\n",
       "      <td>Alabama</td>\n",
       "      <td>4,830,620</td>\n",
       "      <td>68.8%</td>\n",
       "      <td>26.4%</td>\n",
       "      <td>0.5%</td>\n",
       "      <td>1.2%</td>\n",
       "      <td>0.1%</td>\n",
       "      <td>1.3%</td>\n",
       "      <td>1.7%</td>\n",
       "    </tr>\n",
       "    <tr>\n",
       "      <th>1</th>\n",
       "      <td>Alaska</td>\n",
       "      <td>733,375</td>\n",
       "      <td>66.0%</td>\n",
       "      <td>3.4%</td>\n",
       "      <td>13.8%</td>\n",
       "      <td>5.9%</td>\n",
       "      <td>1.2%</td>\n",
       "      <td>1.3%</td>\n",
       "      <td>8.4%</td>\n",
       "    </tr>\n",
       "    <tr>\n",
       "      <th>2</th>\n",
       "      <td>Arizona</td>\n",
       "      <td>6,641,928</td>\n",
       "      <td>78.4%</td>\n",
       "      <td>4.2%</td>\n",
       "      <td>4.4%</td>\n",
       "      <td>3.0%</td>\n",
       "      <td>0.2%</td>\n",
       "      <td>6.5%</td>\n",
       "      <td>3.2%</td>\n",
       "    </tr>\n",
       "    <tr>\n",
       "      <th>3</th>\n",
       "      <td>Arkansas</td>\n",
       "      <td>2,958,208</td>\n",
       "      <td>78.0%</td>\n",
       "      <td>15.5%</td>\n",
       "      <td>0.6%</td>\n",
       "      <td>1.4%</td>\n",
       "      <td>0.2%</td>\n",
       "      <td>2.1%</td>\n",
       "      <td>2.1%</td>\n",
       "    </tr>\n",
       "    <tr>\n",
       "      <th>4</th>\n",
       "      <td>California</td>\n",
       "      <td>38,421,464</td>\n",
       "      <td>61.8%</td>\n",
       "      <td>5.9%</td>\n",
       "      <td>0.7%</td>\n",
       "      <td>13.7%</td>\n",
       "      <td>0.4%</td>\n",
       "      <td>12.9%</td>\n",
       "      <td>4.5%</td>\n",
       "    </tr>\n",
       "  </tbody>\n",
       "</table>\n",
       "</div>"
      ],
      "text/plain": [
       "  State or territory Population(2015 est.)  White Black orAfrican American  \\\n",
       "0            Alabama             4,830,620  68.8%                    26.4%   \n",
       "1             Alaska               733,375  66.0%                     3.4%   \n",
       "2            Arizona             6,641,928  78.4%                     4.2%   \n",
       "3           Arkansas             2,958,208  78.0%                    15.5%   \n",
       "4         California            38,421,464  61.8%                     5.9%   \n",
       "\n",
       "  American Indianand Alaska Native  Asian  \\\n",
       "0                             0.5%   1.2%   \n",
       "1                            13.8%   5.9%   \n",
       "2                             4.4%   3.0%   \n",
       "3                             0.6%   1.4%   \n",
       "4                             0.7%  13.7%   \n",
       "\n",
       "  Native Hawaiian andOther Pacific Islander Some other race Two or more races  \n",
       "0                                      0.1%            1.3%              1.7%  \n",
       "1                                      1.2%            1.3%              8.4%  \n",
       "2                                      0.2%            6.5%              3.2%  \n",
       "3                                      0.2%            2.1%              2.1%  \n",
       "4                                      0.4%           12.9%              4.5%  "
      ]
     },
     "execution_count": 11,
     "metadata": {},
     "output_type": "execute_result"
    }
   ],
   "source": [
    "#Auxiliar empty lists\n",
    "A=[]\n",
    "B=[]\n",
    "C=[]\n",
    "D=[]\n",
    "E=[]\n",
    "F=[]\n",
    "G=[]\n",
    "H=[]\n",
    "I=[]\n",
    "\n",
    "#We counted the number of tables preceding the one we are looking for on the Wikipedia page,\n",
    "#and found that we needed all_tables[27] \n",
    "for row in all_tables[27].findAll('tr'):\n",
    "    cells=row.findAll('td')\n",
    "    if len(cells)==9:\n",
    "        A.append(cells[0].text.strip())\n",
    "        B.append(cells[1].text.strip()) \n",
    "        C.append(cells[2].text.strip())\n",
    "        D.append(cells[3].text.strip())\n",
    "        E.append(cells[4].text.strip())\n",
    "        F.append(cells[5].text.strip())\n",
    "        G.append(cells[6].text.strip())\n",
    "        H.append(cells[7].text.strip())\n",
    "        I.append(cells[8].text.strip())\n",
    "\n",
    "#And we store everything on DF\n",
    "pop=pd.DataFrame(A,columns=['a'])\n",
    "pop['b']=B\n",
    "pop['c']=C\n",
    "pop['d']=D\n",
    "pop['e']=E\n",
    "pop['f']=F\n",
    "pop['g']=G\n",
    "pop['h']=H\n",
    "pop['i']=I\n",
    "\n",
    "#We want the actual names of the columns to help us associate them later\n",
    "cell = all_tables[27].findAll('th')\n",
    "aux = []\n",
    "for i, value in enumerate(cell):\n",
    "    aux.append(cell[i].text.strip())\n",
    "    \n",
    "pop.columns = aux\n",
    "pop.head()"
   ]
  },
  {
   "cell_type": "code",
   "execution_count": 12,
   "metadata": {},
   "outputs": [
    {
     "data": {
      "text/html": [
       "<div>\n",
       "<style scoped>\n",
       "    .dataframe tbody tr th:only-of-type {\n",
       "        vertical-align: middle;\n",
       "    }\n",
       "\n",
       "    .dataframe tbody tr th {\n",
       "        vertical-align: top;\n",
       "    }\n",
       "\n",
       "    .dataframe thead th {\n",
       "        text-align: right;\n",
       "    }\n",
       "</style>\n",
       "<table border=\"1\" class=\"dataframe\">\n",
       "  <thead>\n",
       "    <tr style=\"text-align: right;\">\n",
       "      <th></th>\n",
       "      <th>State or territory</th>\n",
       "      <th>Population(2015 est.)</th>\n",
       "      <th>White</th>\n",
       "      <th>Black orAfrican American</th>\n",
       "      <th>American Indianand Alaska Native</th>\n",
       "      <th>Asian</th>\n",
       "      <th>Native Hawaiian andOther Pacific Islander</th>\n",
       "      <th>Some other race</th>\n",
       "      <th>Two or more races</th>\n",
       "    </tr>\n",
       "  </thead>\n",
       "  <tbody>\n",
       "    <tr>\n",
       "      <th>0</th>\n",
       "      <td>Alabama</td>\n",
       "      <td>4,830,620</td>\n",
       "      <td>68.8%</td>\n",
       "      <td>26.4%</td>\n",
       "      <td>0.5%</td>\n",
       "      <td>1.2%</td>\n",
       "      <td>0.1%</td>\n",
       "      <td>1.3%</td>\n",
       "      <td>1.7%</td>\n",
       "    </tr>\n",
       "    <tr>\n",
       "      <th>1</th>\n",
       "      <td>Alaska</td>\n",
       "      <td>733,375</td>\n",
       "      <td>66.0%</td>\n",
       "      <td>3.4%</td>\n",
       "      <td>13.8%</td>\n",
       "      <td>5.9%</td>\n",
       "      <td>1.2%</td>\n",
       "      <td>1.3%</td>\n",
       "      <td>8.4%</td>\n",
       "    </tr>\n",
       "    <tr>\n",
       "      <th>2</th>\n",
       "      <td>Arizona</td>\n",
       "      <td>6,641,928</td>\n",
       "      <td>78.4%</td>\n",
       "      <td>4.2%</td>\n",
       "      <td>4.4%</td>\n",
       "      <td>3.0%</td>\n",
       "      <td>0.2%</td>\n",
       "      <td>6.5%</td>\n",
       "      <td>3.2%</td>\n",
       "    </tr>\n",
       "    <tr>\n",
       "      <th>3</th>\n",
       "      <td>Arkansas</td>\n",
       "      <td>2,958,208</td>\n",
       "      <td>78.0%</td>\n",
       "      <td>15.5%</td>\n",
       "      <td>0.6%</td>\n",
       "      <td>1.4%</td>\n",
       "      <td>0.2%</td>\n",
       "      <td>2.1%</td>\n",
       "      <td>2.1%</td>\n",
       "    </tr>\n",
       "    <tr>\n",
       "      <th>4</th>\n",
       "      <td>California</td>\n",
       "      <td>38,421,464</td>\n",
       "      <td>61.8%</td>\n",
       "      <td>5.9%</td>\n",
       "      <td>0.7%</td>\n",
       "      <td>13.7%</td>\n",
       "      <td>0.4%</td>\n",
       "      <td>12.9%</td>\n",
       "      <td>4.5%</td>\n",
       "    </tr>\n",
       "  </tbody>\n",
       "</table>\n",
       "</div>"
      ],
      "text/plain": [
       "  State or territory Population(2015 est.)  White Black orAfrican American  \\\n",
       "0            Alabama             4,830,620  68.8%                    26.4%   \n",
       "1             Alaska               733,375  66.0%                     3.4%   \n",
       "2            Arizona             6,641,928  78.4%                     4.2%   \n",
       "3           Arkansas             2,958,208  78.0%                    15.5%   \n",
       "4         California            38,421,464  61.8%                     5.9%   \n",
       "\n",
       "  American Indianand Alaska Native  Asian  \\\n",
       "0                             0.5%   1.2%   \n",
       "1                            13.8%   5.9%   \n",
       "2                             4.4%   3.0%   \n",
       "3                             0.6%   1.4%   \n",
       "4                             0.7%  13.7%   \n",
       "\n",
       "  Native Hawaiian andOther Pacific Islander Some other race Two or more races  \n",
       "0                                      0.1%            1.3%              1.7%  \n",
       "1                                      1.2%            1.3%              8.4%  \n",
       "2                                      0.2%            6.5%              3.2%  \n",
       "3                                      0.2%            2.1%              2.1%  \n",
       "4                                      0.4%           12.9%              4.5%  "
      ]
     },
     "execution_count": 12,
     "metadata": {},
     "output_type": "execute_result"
    }
   ],
   "source": [
    "pop.head()"
   ]
  },
  {
   "cell_type": "code",
   "execution_count": 13,
   "metadata": {},
   "outputs": [
    {
     "data": {
      "text/plain": [
       "array(['Asian', 'White', 'Hispanic', 'Black', 'Other', 'Native'],\n",
       "      dtype=object)"
      ]
     },
     "execution_count": 13,
     "metadata": {},
     "output_type": "execute_result"
    }
   ],
   "source": [
    "df['race'].unique()"
   ]
  },
  {
   "cell_type": "code",
   "execution_count": 14,
   "metadata": {},
   "outputs": [
    {
     "data": {
      "text/html": [
       "<div>\n",
       "<style scoped>\n",
       "    .dataframe tbody tr th:only-of-type {\n",
       "        vertical-align: middle;\n",
       "    }\n",
       "\n",
       "    .dataframe tbody tr th {\n",
       "        vertical-align: top;\n",
       "    }\n",
       "\n",
       "    .dataframe thead th {\n",
       "        text-align: right;\n",
       "    }\n",
       "</style>\n",
       "<table border=\"1\" class=\"dataframe\">\n",
       "  <thead>\n",
       "    <tr style=\"text-align: right;\">\n",
       "      <th></th>\n",
       "      <th>State or territory</th>\n",
       "      <th>Population(2015 est.)</th>\n",
       "      <th>White</th>\n",
       "      <th>Black</th>\n",
       "      <th>Asian</th>\n",
       "      <th>Other</th>\n",
       "      <th>Native</th>\n",
       "    </tr>\n",
       "  </thead>\n",
       "  <tbody>\n",
       "    <tr>\n",
       "      <th>0</th>\n",
       "      <td>Alabama</td>\n",
       "      <td>4.83062e+06</td>\n",
       "      <td>0.6914</td>\n",
       "      <td>0.2674</td>\n",
       "      <td>0.0154</td>\n",
       "      <td>0.0164</td>\n",
       "      <td>0.0094</td>\n",
       "    </tr>\n",
       "    <tr>\n",
       "      <th>1</th>\n",
       "      <td>Alaska</td>\n",
       "      <td>733375</td>\n",
       "      <td>0.6768</td>\n",
       "      <td>0.0508</td>\n",
       "      <td>0.0758</td>\n",
       "      <td>0.0298</td>\n",
       "      <td>0.1668</td>\n",
       "    </tr>\n",
       "    <tr>\n",
       "      <th>2</th>\n",
       "      <td>Arizona</td>\n",
       "      <td>6.64193e+06</td>\n",
       "      <td>0.7904</td>\n",
       "      <td>0.0484</td>\n",
       "      <td>0.0364</td>\n",
       "      <td>0.0714</td>\n",
       "      <td>0.0524</td>\n",
       "    </tr>\n",
       "    <tr>\n",
       "      <th>3</th>\n",
       "      <td>Arkansas</td>\n",
       "      <td>2.95821e+06</td>\n",
       "      <td>0.7842</td>\n",
       "      <td>0.1592</td>\n",
       "      <td>0.0182</td>\n",
       "      <td>0.0252</td>\n",
       "      <td>0.0122</td>\n",
       "    </tr>\n",
       "    <tr>\n",
       "      <th>4</th>\n",
       "      <td>California</td>\n",
       "      <td>3.84215e+07</td>\n",
       "      <td>0.627</td>\n",
       "      <td>0.068</td>\n",
       "      <td>0.146</td>\n",
       "      <td>0.138</td>\n",
       "      <td>0.02</td>\n",
       "    </tr>\n",
       "  </tbody>\n",
       "</table>\n",
       "</div>"
      ],
      "text/plain": [
       "  State or territory Population(2015 est.)   White   Black   Asian   Other  \\\n",
       "0            Alabama           4.83062e+06  0.6914  0.2674  0.0154  0.0164   \n",
       "1             Alaska                733375  0.6768  0.0508  0.0758  0.0298   \n",
       "2            Arizona           6.64193e+06  0.7904  0.0484  0.0364  0.0714   \n",
       "3           Arkansas           2.95821e+06  0.7842  0.1592  0.0182  0.0252   \n",
       "4         California           3.84215e+07   0.627   0.068   0.146   0.138   \n",
       "\n",
       "   Native  \n",
       "0  0.0094  \n",
       "1  0.1668  \n",
       "2  0.0524  \n",
       "3  0.0122  \n",
       "4    0.02  "
      ]
     },
     "execution_count": 14,
     "metadata": {},
     "output_type": "execute_result"
    }
   ],
   "source": [
    "pop2 = pop.copy()\n",
    "\n",
    "#we change the name of the following column to 'Black'\n",
    "pop2.rename(columns = {'Black orAfrican American' : 'Black'}, inplace = True)\n",
    "\n",
    "#We convert everything to numeric, removing characters that get in the way\n",
    "pop2.iloc[:,2:] = pop2.iloc[:,2:].apply(lambda x: x.str.strip('%'))\n",
    "pop2.iloc[:,2:] = pop2.iloc[:,2:].apply(lambda x: x.str.replace('.',''))\n",
    "pop2.iloc[:,1] = pop2.iloc[:,1].apply(lambda x : x.replace(',',''))\n",
    "pop2.iloc[:,1:] = pop2.iloc[:,1:].astype(str).astype(float)\n",
    "pop2.iloc[:,2:] = pop2.iloc[:,2:].apply(lambda x: x.astype('float')/1000)\n",
    "\n",
    "#We create the 'Native' column by merging the following 2:\n",
    "pop2['Native'] = pop2['American Indianand Alaska Native'] + pop2['Native Hawaiian andOther Pacific Islander']\n",
    "pop2.drop(['American Indianand Alaska Native','Native Hawaiian andOther Pacific Islander'], inplace = True, axis = 1)\n",
    "\n",
    "#We assume that 'Some other race' accounts for 'Other'\n",
    "pop2.rename(columns = {'Some other race' : 'Other'}, inplace = True)\n",
    "\n",
    "#And we distribute the 'Two or more races' uniformly due to lack of further knolwedge about it\n",
    "pop2['White'] = pop2['White'] + pop2['Two or more races']/5\n",
    "pop2['Black'] = pop2['Black'] + pop2['Two or more races']/5\n",
    "pop2['Asian'] = pop2['Asian'] + pop2['Two or more races']/5\n",
    "pop2['Other'] = pop2['Other'] + pop2['Two or more races']/5\n",
    "pop2['Native'] = pop2['Native'] + pop2['Two or more races']/5\n",
    "pop2.drop('Two or more races', inplace = True, axis = 1)\n",
    "\n",
    "pop = pop2\n",
    "pop.head()\n",
    "# pop.as_type(pop.iloc[:,1:]))\n",
    "# pop2.dtypes"
   ]
  },
  {
   "cell_type": "markdown",
   "metadata": {},
   "source": [
    "Notice we are still lacking 'Hispanic', but we will fix that later"
   ]
  },
  {
   "cell_type": "markdown",
   "metadata": {},
   "source": [
    "Also, we need a way to associate the States to their codings. Again, we use Wikipedia (url : https://en.wikipedia.org/wiki/List_of_U.S._state_and_territory_abbreviations) and BeautifulSoup."
   ]
  },
  {
   "cell_type": "code",
   "execution_count": 15,
   "metadata": {},
   "outputs": [],
   "source": [
    "# import the library we use to open URLs\n",
    "import urllib.request\n",
    "\n",
    "# import the BeautifulSoup library so we can parse HTML and XML documents\n",
    "from bs4 import BeautifulSoup\n",
    "\n",
    "# specify which URL/web page we are going to be scraping\n",
    "url = \"https://en.wikipedia.org/wiki/List_of_U.S._state_and_territory_abbreviations\"\n",
    "\n",
    "# open the url using urllib.request and put the HTML into the page variable\n",
    "page = urllib.request.urlopen(url)\n",
    "\n",
    "# parse the HTML from our URL into the BeautifulSoup parse tree format\n",
    "soup = BeautifulSoup(page, \"html.parser\")\n",
    "\n",
    "all_tables_states = soup.find_all(\"table\")"
   ]
  },
  {
   "cell_type": "code",
   "execution_count": 16,
   "metadata": {},
   "outputs": [
    {
     "data": {
      "text/html": [
       "<div>\n",
       "<style scoped>\n",
       "    .dataframe tbody tr th:only-of-type {\n",
       "        vertical-align: middle;\n",
       "    }\n",
       "\n",
       "    .dataframe tbody tr th {\n",
       "        vertical-align: top;\n",
       "    }\n",
       "\n",
       "    .dataframe thead th {\n",
       "        text-align: right;\n",
       "    }\n",
       "</style>\n",
       "<table border=\"1\" class=\"dataframe\">\n",
       "  <thead>\n",
       "    <tr style=\"text-align: right;\">\n",
       "      <th></th>\n",
       "      <th>StateName</th>\n",
       "    </tr>\n",
       "    <tr>\n",
       "      <th>state</th>\n",
       "      <th></th>\n",
       "    </tr>\n",
       "  </thead>\n",
       "  <tbody>\n",
       "    <tr>\n",
       "      <th>US</th>\n",
       "      <td>United States of America</td>\n",
       "    </tr>\n",
       "    <tr>\n",
       "      <th>AL</th>\n",
       "      <td>Alabama</td>\n",
       "    </tr>\n",
       "    <tr>\n",
       "      <th>AK</th>\n",
       "      <td>Alaska</td>\n",
       "    </tr>\n",
       "    <tr>\n",
       "      <th>AZ</th>\n",
       "      <td>Arizona</td>\n",
       "    </tr>\n",
       "    <tr>\n",
       "      <th>AR</th>\n",
       "      <td>Arkansas</td>\n",
       "    </tr>\n",
       "  </tbody>\n",
       "</table>\n",
       "</div>"
      ],
      "text/plain": [
       "                      StateName\n",
       "state                          \n",
       "US     United States of America\n",
       "AL                      Alabama\n",
       "AK                       Alaska\n",
       "AZ                      Arizona\n",
       "AR                     Arkansas"
      ]
     },
     "execution_count": 16,
     "metadata": {},
     "output_type": "execute_result"
    }
   ],
   "source": [
    "#Auxiliar empty lists\n",
    "A=[]\n",
    "B=[]\n",
    "\n",
    "\n",
    "#We counted the number of tables preceding the one we are looking for on the Wikipedia page,\n",
    "#and found that we needed all_tables[27] \n",
    "for row in all_tables_states[0].findAll('tr'):\n",
    "    cells=row.findAll('td')\n",
    "    if len(cells)==10:\n",
    "        A.append(cells[0].text.strip())\n",
    "        B.append(cells[3].text.strip()) \n",
    "       \n",
    "\n",
    "#And we store everything on DF, plus, we name the second column 'state' so as to facilitate the join\n",
    "st=pd.DataFrame(A,columns=['StateName'])\n",
    "st['state']=B\n",
    "st.index = st['state']\n",
    "st.drop('state', inplace = True, axis = 1)\n",
    "st.head()"
   ]
  },
  {
   "cell_type": "markdown",
   "metadata": {},
   "source": [
    "We substitue the state acronym to its full name"
   ]
  },
  {
   "cell_type": "code",
   "execution_count": 17,
   "metadata": {
    "scrolled": true
   },
   "outputs": [
    {
     "data": {
      "text/html": [
       "<div>\n",
       "<style scoped>\n",
       "    .dataframe tbody tr th:only-of-type {\n",
       "        vertical-align: middle;\n",
       "    }\n",
       "\n",
       "    .dataframe tbody tr th {\n",
       "        vertical-align: top;\n",
       "    }\n",
       "\n",
       "    .dataframe thead th {\n",
       "        text-align: right;\n",
       "    }\n",
       "</style>\n",
       "<table border=\"1\" class=\"dataframe\">\n",
       "  <thead>\n",
       "    <tr style=\"text-align: right;\">\n",
       "      <th></th>\n",
       "      <th>name</th>\n",
       "      <th>date</th>\n",
       "      <th>manner_of_death</th>\n",
       "      <th>armed</th>\n",
       "      <th>age</th>\n",
       "      <th>gender</th>\n",
       "      <th>race</th>\n",
       "      <th>city</th>\n",
       "      <th>state</th>\n",
       "      <th>signs_of_mental_illness</th>\n",
       "      <th>threat_level</th>\n",
       "      <th>flee</th>\n",
       "      <th>body_camera</th>\n",
       "      <th>arms_category</th>\n",
       "      <th>was_fleeing</th>\n",
       "    </tr>\n",
       "    <tr>\n",
       "      <th>id</th>\n",
       "      <th></th>\n",
       "      <th></th>\n",
       "      <th></th>\n",
       "      <th></th>\n",
       "      <th></th>\n",
       "      <th></th>\n",
       "      <th></th>\n",
       "      <th></th>\n",
       "      <th></th>\n",
       "      <th></th>\n",
       "      <th></th>\n",
       "      <th></th>\n",
       "      <th></th>\n",
       "      <th></th>\n",
       "      <th></th>\n",
       "    </tr>\n",
       "  </thead>\n",
       "  <tbody>\n",
       "    <tr>\n",
       "      <th>3</th>\n",
       "      <td>Tim Elliot</td>\n",
       "      <td>2015-01-02</td>\n",
       "      <td>shot</td>\n",
       "      <td>gun</td>\n",
       "      <td>53.0</td>\n",
       "      <td>M</td>\n",
       "      <td>Asian</td>\n",
       "      <td>Shelton</td>\n",
       "      <td>Washington</td>\n",
       "      <td>True</td>\n",
       "      <td>attack</td>\n",
       "      <td>Not fleeing</td>\n",
       "      <td>False</td>\n",
       "      <td>Guns</td>\n",
       "      <td>False</td>\n",
       "    </tr>\n",
       "    <tr>\n",
       "      <th>4</th>\n",
       "      <td>Lewis Lee Lembke</td>\n",
       "      <td>2015-01-02</td>\n",
       "      <td>shot</td>\n",
       "      <td>gun</td>\n",
       "      <td>47.0</td>\n",
       "      <td>M</td>\n",
       "      <td>White</td>\n",
       "      <td>Aloha</td>\n",
       "      <td>Oregon</td>\n",
       "      <td>False</td>\n",
       "      <td>attack</td>\n",
       "      <td>Not fleeing</td>\n",
       "      <td>False</td>\n",
       "      <td>Guns</td>\n",
       "      <td>False</td>\n",
       "    </tr>\n",
       "    <tr>\n",
       "      <th>5</th>\n",
       "      <td>John Paul Quintero</td>\n",
       "      <td>2015-01-03</td>\n",
       "      <td>shot and Tasered</td>\n",
       "      <td>unarmed</td>\n",
       "      <td>23.0</td>\n",
       "      <td>M</td>\n",
       "      <td>Hispanic</td>\n",
       "      <td>Wichita</td>\n",
       "      <td>Kansas</td>\n",
       "      <td>False</td>\n",
       "      <td>other</td>\n",
       "      <td>Not fleeing</td>\n",
       "      <td>False</td>\n",
       "      <td>Unarmed</td>\n",
       "      <td>False</td>\n",
       "    </tr>\n",
       "    <tr>\n",
       "      <th>8</th>\n",
       "      <td>Matthew Hoffman</td>\n",
       "      <td>2015-01-04</td>\n",
       "      <td>shot</td>\n",
       "      <td>toy weapon</td>\n",
       "      <td>32.0</td>\n",
       "      <td>M</td>\n",
       "      <td>White</td>\n",
       "      <td>San Francisco</td>\n",
       "      <td>California</td>\n",
       "      <td>True</td>\n",
       "      <td>attack</td>\n",
       "      <td>Not fleeing</td>\n",
       "      <td>False</td>\n",
       "      <td>Other unusual objects</td>\n",
       "      <td>False</td>\n",
       "    </tr>\n",
       "    <tr>\n",
       "      <th>9</th>\n",
       "      <td>Michael Rodriguez</td>\n",
       "      <td>2015-01-04</td>\n",
       "      <td>shot</td>\n",
       "      <td>nail gun</td>\n",
       "      <td>39.0</td>\n",
       "      <td>M</td>\n",
       "      <td>Hispanic</td>\n",
       "      <td>Evans</td>\n",
       "      <td>Colorado</td>\n",
       "      <td>False</td>\n",
       "      <td>attack</td>\n",
       "      <td>Not fleeing</td>\n",
       "      <td>False</td>\n",
       "      <td>Piercing objects</td>\n",
       "      <td>False</td>\n",
       "    </tr>\n",
       "  </tbody>\n",
       "</table>\n",
       "</div>"
      ],
      "text/plain": [
       "                  name       date   manner_of_death       armed   age gender  \\\n",
       "id                                                                             \n",
       "3           Tim Elliot 2015-01-02              shot         gun  53.0      M   \n",
       "4     Lewis Lee Lembke 2015-01-02              shot         gun  47.0      M   \n",
       "5   John Paul Quintero 2015-01-03  shot and Tasered     unarmed  23.0      M   \n",
       "8      Matthew Hoffman 2015-01-04              shot  toy weapon  32.0      M   \n",
       "9    Michael Rodriguez 2015-01-04              shot    nail gun  39.0      M   \n",
       "\n",
       "        race           city       state  signs_of_mental_illness threat_level  \\\n",
       "id                                                                              \n",
       "3      Asian        Shelton  Washington                     True       attack   \n",
       "4      White          Aloha      Oregon                    False       attack   \n",
       "5   Hispanic        Wichita      Kansas                    False        other   \n",
       "8      White  San Francisco  California                     True       attack   \n",
       "9   Hispanic          Evans    Colorado                    False       attack   \n",
       "\n",
       "           flee  body_camera          arms_category  was_fleeing  \n",
       "id                                                                \n",
       "3   Not fleeing        False                   Guns        False  \n",
       "4   Not fleeing        False                   Guns        False  \n",
       "5   Not fleeing        False                Unarmed        False  \n",
       "8   Not fleeing        False  Other unusual objects        False  \n",
       "9   Not fleeing        False       Piercing objects        False  "
      ]
     },
     "execution_count": 17,
     "metadata": {},
     "output_type": "execute_result"
    }
   ],
   "source": [
    "df = df.replace({'state':st.to_dict()['StateName']})\n",
    "df.head()"
   ]
  },
  {
   "cell_type": "code",
   "execution_count": 18,
   "metadata": {},
   "outputs": [
    {
     "name": "stdout",
     "output_type": "stream",
     "text": [
      "['Washington' 'Oregon' 'Kansas' 'California' 'Colorado' 'Oklahoma'\n",
      " 'Arizona' 'Iowa' 'Pennsylvania' 'Texas' 'Ohio' 'Louisiana' 'Montana'\n",
      " 'Utah' 'Arkansas' 'Illinois' 'Nevada' 'New Mexico' 'Minnesota' 'Missouri'\n",
      " 'Virginia' 'New Jersey' 'Indiana' 'Kentucky' 'Massachusetts'\n",
      " 'New Hampshire' 'Florida' 'Idaho' 'Maryland' 'Nebraska' 'Michigan'\n",
      " 'Georgia' 'Tennessee' 'North Carolina' 'Alaska' 'New York' 'Maine'\n",
      " 'Alabama' 'Mississippi' 'Wisconsin' 'South Carolina' 'Delaware'\n",
      " 'District of Columbia' 'West Virginia' 'Hawaii' 'Wyoming' 'North Dakota'\n",
      " 'Connecticut' 'South Dakota' 'Vermont' 'Rhode Island']\n"
     ]
    },
    {
     "data": {
      "text/plain": [
       "0"
      ]
     },
     "execution_count": 18,
     "metadata": {},
     "output_type": "execute_result"
    }
   ],
   "source": [
    "print(df['state'].unique()) #We check that every state was mapped\n",
    "df['state'].isna().sum()"
   ]
  },
  {
   "cell_type": "markdown",
   "metadata": {},
   "source": [
    "Before moving on, given the statemant mentioned above about Latino/Hispanic, we will make an estimate on the number of Latino/Hispanic given the information available on another table also in the Wikipedia page:"
   ]
  },
  {
   "cell_type": "code",
   "execution_count": 19,
   "metadata": {},
   "outputs": [
    {
     "data": {
      "text/html": [
       "<div>\n",
       "<style scoped>\n",
       "    .dataframe tbody tr th:only-of-type {\n",
       "        vertical-align: middle;\n",
       "    }\n",
       "\n",
       "    .dataframe tbody tr th {\n",
       "        vertical-align: top;\n",
       "    }\n",
       "\n",
       "    .dataframe thead th {\n",
       "        text-align: right;\n",
       "    }\n",
       "</style>\n",
       "<table border=\"1\" class=\"dataframe\">\n",
       "  <thead>\n",
       "    <tr style=\"text-align: right;\">\n",
       "      <th></th>\n",
       "      <th>Population (2015 est.)</th>\n",
       "      <th>Percentage of total population</th>\n",
       "    </tr>\n",
       "    <tr>\n",
       "      <th>Hispanic or Latino and Race</th>\n",
       "      <th></th>\n",
       "      <th></th>\n",
       "    </tr>\n",
       "  </thead>\n",
       "  <tbody>\n",
       "    <tr>\n",
       "      <th>United States population</th>\n",
       "      <td>316,515,021</td>\n",
       "      <td>100%</td>\n",
       "    </tr>\n",
       "    <tr>\n",
       "      <th>Hispanic or Latino (of any race)</th>\n",
       "      <td>54,232,205</td>\n",
       "      <td>17.1%</td>\n",
       "    </tr>\n",
       "    <tr>\n",
       "      <th>White</th>\n",
       "      <td>35,684,777</td>\n",
       "      <td>11.3%</td>\n",
       "    </tr>\n",
       "    <tr>\n",
       "      <th>Black or African American</th>\n",
       "      <td>1,122,369</td>\n",
       "      <td>0.3%</td>\n",
       "    </tr>\n",
       "    <tr>\n",
       "      <th>American Indian and Alaska Native</th>\n",
       "      <td>490,557</td>\n",
       "      <td>0.1%</td>\n",
       "    </tr>\n",
       "    <tr>\n",
       "      <th>Asian</th>\n",
       "      <td>181,231</td>\n",
       "      <td>0.0%</td>\n",
       "    </tr>\n",
       "    <tr>\n",
       "      <th>Native Hawaiian and Other Pacific Islander</th>\n",
       "      <td>46,724</td>\n",
       "      <td>0.0%</td>\n",
       "    </tr>\n",
       "    <tr>\n",
       "      <th>Some other race</th>\n",
       "      <td>14,226,829</td>\n",
       "      <td>4.5%</td>\n",
       "    </tr>\n",
       "    <tr>\n",
       "      <th>Two or more races</th>\n",
       "      <td>2,479,718</td>\n",
       "      <td>0.8%</td>\n",
       "    </tr>\n",
       "    <tr>\n",
       "      <th>Not Hispanic or Latino</th>\n",
       "      <td>262,282,816</td>\n",
       "      <td>82.9%</td>\n",
       "    </tr>\n",
       "  </tbody>\n",
       "</table>\n",
       "</div>"
      ],
      "text/plain": [
       "                                           Population (2015 est.)  \\\n",
       "Hispanic or Latino and Race                                         \n",
       "United States population                              316,515,021   \n",
       "Hispanic or Latino (of any race)                       54,232,205   \n",
       "White                                                  35,684,777   \n",
       "Black or African American                               1,122,369   \n",
       "American Indian and Alaska Native                         490,557   \n",
       "Asian                                                     181,231   \n",
       "Native Hawaiian and Other Pacific Islander                 46,724   \n",
       "Some other race                                        14,226,829   \n",
       "Two or more races                                       2,479,718   \n",
       "Not Hispanic or Latino                                262,282,816   \n",
       "\n",
       "                                           Percentage of total population  \n",
       "Hispanic or Latino and Race                                                \n",
       "United States population                                             100%  \n",
       "Hispanic or Latino (of any race)                                    17.1%  \n",
       "White                                                               11.3%  \n",
       "Black or African American                                            0.3%  \n",
       "American Indian and Alaska Native                                    0.1%  \n",
       "Asian                                                                0.0%  \n",
       "Native Hawaiian and Other Pacific Islander                           0.0%  \n",
       "Some other race                                                      4.5%  \n",
       "Two or more races                                                    0.8%  \n",
       "Not Hispanic or Latino                                              82.9%  "
      ]
     },
     "execution_count": 19,
     "metadata": {},
     "output_type": "execute_result"
    }
   ],
   "source": [
    "#Auxiliar empty lists\n",
    "M=[]\n",
    "N=[]\n",
    "O=[]\n",
    "\n",
    "#We counted the number of tables preceding the one we are looking for on the Wikipedia page,\n",
    "#and found that we needed all_tables[27] \n",
    "for row in all_tables[33].findAll('tr'):\n",
    "    cells=row.findAll('td')\n",
    "    if len(cells)==3:\n",
    "        M.append(cells[0].text.strip())\n",
    "        N.append(cells[1].text.strip()) \n",
    "        O.append(cells[2].text.strip())\n",
    "        \n",
    "#And we store everything on DF\n",
    "his=pd.DataFrame(M,columns=['a'])\n",
    "his['b']=N\n",
    "his['c']=O\n",
    "\n",
    "#We want the actual names of the columns to help us associate them later\n",
    "cell = all_tables[33].findAll('th')\n",
    "aux = []\n",
    "for i, value in enumerate(cell):\n",
    "    aux.append(cell[i].text.strip())\n",
    "    \n",
    "his.columns = aux\n",
    "his.index = his['Hispanic or Latino and Race']\n",
    "his.drop('Hispanic or Latino and Race', inplace = True, axis = 1)\n",
    "his"
   ]
  },
  {
   "cell_type": "markdown",
   "metadata": {},
   "source": [
    "We assume, given the lack of information, that the Hispanic 'race' distribution is the same for every State."
   ]
  },
  {
   "cell_type": "code",
   "execution_count": 20,
   "metadata": {},
   "outputs": [
    {
     "data": {
      "text/plain": [
       "array(['Asian', 'White', 'Hispanic', 'Black', 'Other', 'Native'],\n",
       "      dtype=object)"
      ]
     },
     "execution_count": 20,
     "metadata": {},
     "output_type": "execute_result"
    }
   ],
   "source": [
    "df['race'].unique()"
   ]
  },
  {
   "cell_type": "code",
   "execution_count": 21,
   "metadata": {},
   "outputs": [
    {
     "data": {
      "text/html": [
       "<div>\n",
       "<style scoped>\n",
       "    .dataframe tbody tr th:only-of-type {\n",
       "        vertical-align: middle;\n",
       "    }\n",
       "\n",
       "    .dataframe tbody tr th {\n",
       "        vertical-align: top;\n",
       "    }\n",
       "\n",
       "    .dataframe thead th {\n",
       "        text-align: right;\n",
       "    }\n",
       "</style>\n",
       "<table border=\"1\" class=\"dataframe\">\n",
       "  <thead>\n",
       "    <tr style=\"text-align: right;\">\n",
       "      <th></th>\n",
       "      <th>Population (2015 est.)</th>\n",
       "      <th>Percentage of total population</th>\n",
       "    </tr>\n",
       "    <tr>\n",
       "      <th>Hispanic or Latino and Race</th>\n",
       "      <th></th>\n",
       "      <th></th>\n",
       "    </tr>\n",
       "  </thead>\n",
       "  <tbody>\n",
       "    <tr>\n",
       "      <th>White</th>\n",
       "      <td>35,684,777</td>\n",
       "      <td>11.3%</td>\n",
       "    </tr>\n",
       "    <tr>\n",
       "      <th>Black or African American</th>\n",
       "      <td>1,122,369</td>\n",
       "      <td>0.3%</td>\n",
       "    </tr>\n",
       "    <tr>\n",
       "      <th>American Indian and Alaska Native</th>\n",
       "      <td>490,557</td>\n",
       "      <td>0.1%</td>\n",
       "    </tr>\n",
       "    <tr>\n",
       "      <th>Asian</th>\n",
       "      <td>181,231</td>\n",
       "      <td>0.0%</td>\n",
       "    </tr>\n",
       "    <tr>\n",
       "      <th>Native Hawaiian and Other Pacific Islander</th>\n",
       "      <td>46,724</td>\n",
       "      <td>0.0%</td>\n",
       "    </tr>\n",
       "    <tr>\n",
       "      <th>Some other race</th>\n",
       "      <td>14,226,829</td>\n",
       "      <td>4.5%</td>\n",
       "    </tr>\n",
       "    <tr>\n",
       "      <th>Two or more races</th>\n",
       "      <td>2,479,718</td>\n",
       "      <td>0.8%</td>\n",
       "    </tr>\n",
       "  </tbody>\n",
       "</table>\n",
       "</div>"
      ],
      "text/plain": [
       "                                           Population (2015 est.)  \\\n",
       "Hispanic or Latino and Race                                         \n",
       "White                                                  35,684,777   \n",
       "Black or African American                               1,122,369   \n",
       "American Indian and Alaska Native                         490,557   \n",
       "Asian                                                     181,231   \n",
       "Native Hawaiian and Other Pacific Islander                 46,724   \n",
       "Some other race                                        14,226,829   \n",
       "Two or more races                                       2,479,718   \n",
       "\n",
       "                                           Percentage of total population  \n",
       "Hispanic or Latino and Race                                                \n",
       "White                                                               11.3%  \n",
       "Black or African American                                            0.3%  \n",
       "American Indian and Alaska Native                                    0.1%  \n",
       "Asian                                                                0.0%  \n",
       "Native Hawaiian and Other Pacific Islander                           0.0%  \n",
       "Some other race                                                      4.5%  \n",
       "Two or more races                                                    0.8%  "
      ]
     },
     "execution_count": 21,
     "metadata": {},
     "output_type": "execute_result"
    }
   ],
   "source": [
    "his.loc[['White',\n",
    "         'Black or African American',\n",
    "         'American Indian and Alaska Native',\n",
    "         'Asian','Native Hawaiian and Other Pacific Islander',\n",
    "         'Some other race',\n",
    "         'Two or more races'],:]"
   ]
  },
  {
   "cell_type": "code",
   "execution_count": 22,
   "metadata": {},
   "outputs": [
    {
     "data": {
      "text/html": [
       "<div>\n",
       "<style scoped>\n",
       "    .dataframe tbody tr th:only-of-type {\n",
       "        vertical-align: middle;\n",
       "    }\n",
       "\n",
       "    .dataframe tbody tr th {\n",
       "        vertical-align: top;\n",
       "    }\n",
       "\n",
       "    .dataframe thead th {\n",
       "        text-align: right;\n",
       "    }\n",
       "</style>\n",
       "<table border=\"1\" class=\"dataframe\">\n",
       "  <thead>\n",
       "    <tr style=\"text-align: right;\">\n",
       "      <th>Hispanic or Latino and Race</th>\n",
       "      <th>White</th>\n",
       "      <th>Black</th>\n",
       "      <th>Asian</th>\n",
       "      <th>Other</th>\n",
       "      <th>Native</th>\n",
       "    </tr>\n",
       "  </thead>\n",
       "  <tbody>\n",
       "    <tr>\n",
       "      <th>Percentage of total population</th>\n",
       "      <td>0.1146</td>\n",
       "      <td>0.0046</td>\n",
       "      <td>0.0016</td>\n",
       "      <td>0.0466</td>\n",
       "      <td>0.0026</td>\n",
       "    </tr>\n",
       "  </tbody>\n",
       "</table>\n",
       "</div>"
      ],
      "text/plain": [
       "Hispanic or Latino and Race      White   Black   Asian   Other  Native\n",
       "Percentage of total population  0.1146  0.0046  0.0016  0.0466  0.0026"
      ]
     },
     "execution_count": 22,
     "metadata": {},
     "output_type": "execute_result"
    }
   ],
   "source": [
    "his2 = his.copy()\n",
    "\n",
    "#We make similar transformations to this df as in the pop df\n",
    "his2['Percentage of total population'] = his2['Percentage of total population'].apply(lambda x: x.strip('%'))\n",
    "his2['Percentage of total population'] = his2['Percentage of total population'].apply(lambda x: x.replace('.',''))\n",
    "his2.drop('Population (2015 est.)', inplace = True,axis = 1)\n",
    "his2 = his2.transpose()\n",
    "his2.drop(['United States population',\n",
    "           'Hispanic or Latino (of any race)',\n",
    "           'Not Hispanic or Latino'],inplace = True,axis = 1)\n",
    "his2 = his2.astype('float')/1000\n",
    "his2.rename(columns = {'Black or African American' : 'Black',\n",
    "                      'Some other race' : 'Other'}, inplace = True)\n",
    "his2['Native'] = his2['American Indian and Alaska Native'] + his2['Native Hawaiian and Other Pacific Islander']\n",
    "his2.drop(['American Indian and Alaska Native','Native Hawaiian and Other Pacific Islander'], inplace = True, axis = 1)\n",
    "his2['White'] = his2['White'] + his2['Two or more races']/5\n",
    "his2['Black'] = his2['Black'] + his2['Two or more races']/5\n",
    "his2['Asian'] = his2['Asian'] + his2['Two or more races']/5\n",
    "his2['Other'] = his2['Other'] + his2['Two or more races']/5\n",
    "his2['Native'] = his2['Native'] + his2['Two or more races']/5\n",
    "his2.drop('Two or more races', inplace = True, axis = 1)\n",
    "\n",
    "his = his2\n",
    "his.head()"
   ]
  },
  {
   "cell_type": "markdown",
   "metadata": {},
   "source": [
    "With the vector above, we can add a new column, 'Hispanic', to the matrix of population by race and state"
   ]
  },
  {
   "cell_type": "code",
   "execution_count": 23,
   "metadata": {},
   "outputs": [
    {
     "data": {
      "text/html": [
       "<div>\n",
       "<style scoped>\n",
       "    .dataframe tbody tr th:only-of-type {\n",
       "        vertical-align: middle;\n",
       "    }\n",
       "\n",
       "    .dataframe tbody tr th {\n",
       "        vertical-align: top;\n",
       "    }\n",
       "\n",
       "    .dataframe thead th {\n",
       "        text-align: right;\n",
       "    }\n",
       "</style>\n",
       "<table border=\"1\" class=\"dataframe\">\n",
       "  <thead>\n",
       "    <tr style=\"text-align: right;\">\n",
       "      <th></th>\n",
       "      <th>State or territory</th>\n",
       "      <th>Population(2015 est.)</th>\n",
       "      <th>White</th>\n",
       "      <th>Black</th>\n",
       "      <th>Asian</th>\n",
       "      <th>Other</th>\n",
       "      <th>Native</th>\n",
       "      <th>Hispanic</th>\n",
       "    </tr>\n",
       "  </thead>\n",
       "  <tbody>\n",
       "    <tr>\n",
       "      <th>0</th>\n",
       "      <td>Alabama</td>\n",
       "      <td>4.83062e+06</td>\n",
       "      <td>0.612166</td>\n",
       "      <td>0.266170</td>\n",
       "      <td>0.015375</td>\n",
       "      <td>0.015636</td>\n",
       "      <td>0.009376</td>\n",
       "      <td>0.0812778</td>\n",
       "    </tr>\n",
       "    <tr>\n",
       "      <th>1</th>\n",
       "      <td>Alaska</td>\n",
       "      <td>733375</td>\n",
       "      <td>0.599239</td>\n",
       "      <td>0.050566</td>\n",
       "      <td>0.075679</td>\n",
       "      <td>0.028411</td>\n",
       "      <td>0.166366</td>\n",
       "      <td>0.0797386</td>\n",
       "    </tr>\n",
       "    <tr>\n",
       "      <th>2</th>\n",
       "      <td>Arizona</td>\n",
       "      <td>6.64193e+06</td>\n",
       "      <td>0.699820</td>\n",
       "      <td>0.048177</td>\n",
       "      <td>0.036342</td>\n",
       "      <td>0.068073</td>\n",
       "      <td>0.052264</td>\n",
       "      <td>0.0943242</td>\n",
       "    </tr>\n",
       "    <tr>\n",
       "      <th>3</th>\n",
       "      <td>Arkansas</td>\n",
       "      <td>2.95821e+06</td>\n",
       "      <td>0.694331</td>\n",
       "      <td>0.158468</td>\n",
       "      <td>0.018171</td>\n",
       "      <td>0.024026</td>\n",
       "      <td>0.012168</td>\n",
       "      <td>0.0918368</td>\n",
       "    </tr>\n",
       "    <tr>\n",
       "      <th>4</th>\n",
       "      <td>California</td>\n",
       "      <td>3.84215e+07</td>\n",
       "      <td>0.555146</td>\n",
       "      <td>0.067687</td>\n",
       "      <td>0.145766</td>\n",
       "      <td>0.131569</td>\n",
       "      <td>0.019948</td>\n",
       "      <td>0.0788834</td>\n",
       "    </tr>\n",
       "  </tbody>\n",
       "</table>\n",
       "</div>"
      ],
      "text/plain": [
       "  State or territory Population(2015 est.)     White     Black     Asian  \\\n",
       "0            Alabama           4.83062e+06  0.612166  0.266170  0.015375   \n",
       "1             Alaska                733375  0.599239  0.050566  0.075679   \n",
       "2            Arizona           6.64193e+06  0.699820  0.048177  0.036342   \n",
       "3           Arkansas           2.95821e+06  0.694331  0.158468  0.018171   \n",
       "4         California           3.84215e+07  0.555146  0.067687  0.145766   \n",
       "\n",
       "      Other    Native   Hispanic  \n",
       "0  0.015636  0.009376  0.0812778  \n",
       "1  0.028411  0.166366  0.0797386  \n",
       "2  0.068073  0.052264  0.0943242  \n",
       "3  0.024026  0.012168  0.0918368  \n",
       "4  0.131569  0.019948  0.0788834  "
      ]
     },
     "execution_count": 23,
     "metadata": {},
     "output_type": "execute_result"
    }
   ],
   "source": [
    "pop2 = pop.copy()\n",
    "races = ['White','Black','Asian','Other','Native']\n",
    "\n",
    "# We use tha same distribution for every state to create the 'Hispanic' column\n",
    "pop2['Hispanic'] = np.array(pop2[races]).dot(np.array(his.transpose()))\n",
    "\n",
    "#And then remove the percentage we took from every other 'race' column\n",
    "for race in races:\n",
    "    f = (1-his[race])\n",
    "    pop2[race] = (pop2[race].astype('float'))*f[0]\n",
    "\n",
    "pop = pop2\n",
    "pop.head()"
   ]
  },
  {
   "cell_type": "code",
   "execution_count": 24,
   "metadata": {},
   "outputs": [
    {
     "data": {
      "text/html": [
       "<div>\n",
       "<style scoped>\n",
       "    .dataframe tbody tr th:only-of-type {\n",
       "        vertical-align: middle;\n",
       "    }\n",
       "\n",
       "    .dataframe tbody tr th {\n",
       "        vertical-align: top;\n",
       "    }\n",
       "\n",
       "    .dataframe thead th {\n",
       "        text-align: right;\n",
       "    }\n",
       "</style>\n",
       "<table border=\"1\" class=\"dataframe\">\n",
       "  <thead>\n",
       "    <tr style=\"text-align: right;\">\n",
       "      <th></th>\n",
       "      <th>State or territory</th>\n",
       "      <th>Population(2015 est.)</th>\n",
       "      <th>White</th>\n",
       "      <th>Black</th>\n",
       "      <th>Asian</th>\n",
       "      <th>Other</th>\n",
       "      <th>Native</th>\n",
       "      <th>Hispanic</th>\n",
       "      <th>White Pop</th>\n",
       "      <th>Black Pop</th>\n",
       "      <th>Asian Pop</th>\n",
       "      <th>Other Pop</th>\n",
       "      <th>Native Pop</th>\n",
       "      <th>Hispanic Pop</th>\n",
       "    </tr>\n",
       "  </thead>\n",
       "  <tbody>\n",
       "    <tr>\n",
       "      <th>0</th>\n",
       "      <td>Alabama</td>\n",
       "      <td>4.83062e+06</td>\n",
       "      <td>0.612166</td>\n",
       "      <td>0.266170</td>\n",
       "      <td>0.015375</td>\n",
       "      <td>0.015636</td>\n",
       "      <td>0.009376</td>\n",
       "      <td>0.0812778</td>\n",
       "      <td>2.95714e+06</td>\n",
       "      <td>1.28577e+06</td>\n",
       "      <td>74272.5</td>\n",
       "      <td>75530.4</td>\n",
       "      <td>45289.8</td>\n",
       "      <td>392622</td>\n",
       "    </tr>\n",
       "    <tr>\n",
       "      <th>1</th>\n",
       "      <td>Alaska</td>\n",
       "      <td>733375</td>\n",
       "      <td>0.599239</td>\n",
       "      <td>0.050566</td>\n",
       "      <td>0.075679</td>\n",
       "      <td>0.028411</td>\n",
       "      <td>0.166366</td>\n",
       "      <td>0.0797386</td>\n",
       "      <td>439467</td>\n",
       "      <td>37084.1</td>\n",
       "      <td>55500.9</td>\n",
       "      <td>20836.2</td>\n",
       "      <td>122009</td>\n",
       "      <td>58478.3</td>\n",
       "    </tr>\n",
       "    <tr>\n",
       "      <th>2</th>\n",
       "      <td>Arizona</td>\n",
       "      <td>6.64193e+06</td>\n",
       "      <td>0.699820</td>\n",
       "      <td>0.048177</td>\n",
       "      <td>0.036342</td>\n",
       "      <td>0.068073</td>\n",
       "      <td>0.052264</td>\n",
       "      <td>0.0943242</td>\n",
       "      <td>4.64816e+06</td>\n",
       "      <td>319991</td>\n",
       "      <td>241379</td>\n",
       "      <td>452134</td>\n",
       "      <td>347132</td>\n",
       "      <td>626495</td>\n",
       "    </tr>\n",
       "    <tr>\n",
       "      <th>3</th>\n",
       "      <td>Arkansas</td>\n",
       "      <td>2.95821e+06</td>\n",
       "      <td>0.694331</td>\n",
       "      <td>0.158468</td>\n",
       "      <td>0.018171</td>\n",
       "      <td>0.024026</td>\n",
       "      <td>0.012168</td>\n",
       "      <td>0.0918368</td>\n",
       "      <td>2.05397e+06</td>\n",
       "      <td>468780</td>\n",
       "      <td>53753.2</td>\n",
       "      <td>71073</td>\n",
       "      <td>35996.3</td>\n",
       "      <td>271672</td>\n",
       "    </tr>\n",
       "    <tr>\n",
       "      <th>4</th>\n",
       "      <td>California</td>\n",
       "      <td>3.84215e+07</td>\n",
       "      <td>0.555146</td>\n",
       "      <td>0.067687</td>\n",
       "      <td>0.145766</td>\n",
       "      <td>0.131569</td>\n",
       "      <td>0.019948</td>\n",
       "      <td>0.0788834</td>\n",
       "      <td>2.13295e+07</td>\n",
       "      <td>2.60064e+06</td>\n",
       "      <td>5.60056e+06</td>\n",
       "      <td>5.05508e+06</td>\n",
       "      <td>766431</td>\n",
       "      <td>3.03082e+06</td>\n",
       "    </tr>\n",
       "  </tbody>\n",
       "</table>\n",
       "</div>"
      ],
      "text/plain": [
       "  State or territory Population(2015 est.)     White     Black     Asian  \\\n",
       "0            Alabama           4.83062e+06  0.612166  0.266170  0.015375   \n",
       "1             Alaska                733375  0.599239  0.050566  0.075679   \n",
       "2            Arizona           6.64193e+06  0.699820  0.048177  0.036342   \n",
       "3           Arkansas           2.95821e+06  0.694331  0.158468  0.018171   \n",
       "4         California           3.84215e+07  0.555146  0.067687  0.145766   \n",
       "\n",
       "      Other    Native   Hispanic    White Pop    Black Pop    Asian Pop  \\\n",
       "0  0.015636  0.009376  0.0812778  2.95714e+06  1.28577e+06      74272.5   \n",
       "1  0.028411  0.166366  0.0797386       439467      37084.1      55500.9   \n",
       "2  0.068073  0.052264  0.0943242  4.64816e+06       319991       241379   \n",
       "3  0.024026  0.012168  0.0918368  2.05397e+06       468780      53753.2   \n",
       "4  0.131569  0.019948  0.0788834  2.13295e+07  2.60064e+06  5.60056e+06   \n",
       "\n",
       "     Other Pop Native Pop Hispanic Pop  \n",
       "0      75530.4    45289.8       392622  \n",
       "1      20836.2     122009      58478.3  \n",
       "2       452134     347132       626495  \n",
       "3        71073    35996.3       271672  \n",
       "4  5.05508e+06     766431  3.03082e+06  "
      ]
     },
     "execution_count": 24,
     "metadata": {},
     "output_type": "execute_result"
    }
   ],
   "source": [
    "# We add columns that will be useful to our pop df:\n",
    "races = ['White','Black','Asian','Other','Native','Hispanic']\n",
    "\n",
    "for race in races:\n",
    "    race_pop = race + ' Pop'\n",
    "    pop[race_pop] = pop['Population(2015 est.)']*pop[race]\n",
    "\n",
    "pop.head()"
   ]
  },
  {
   "cell_type": "markdown",
   "metadata": {},
   "source": [
    "#### Note: Analysis starts here."
   ]
  },
  {
   "cell_type": "markdown",
   "metadata": {},
   "source": [
    "## Analysis"
   ]
  },
  {
   "cell_type": "markdown",
   "metadata": {},
   "source": [
    "Now that we have obtained the information about the population, we are able to observe the proportion of people killed to total amount of population, by race. Let's begin first with an overall look, that is, let's get averages for the whole US."
   ]
  },
  {
   "cell_type": "code",
   "execution_count": 25,
   "metadata": {},
   "outputs": [
    {
     "data": {
      "text/plain": [
       "<AxesSubplot:>"
      ]
     },
     "execution_count": 25,
     "metadata": {},
     "output_type": "execute_result"
    },
    {
     "data": {
      "image/png": "[encoded data removed]",
      "text/plain": [
       "<Figure size 432x288 with 1 Axes>"
      ]
     },
     "metadata": {
      "needs_background": "light"
     },
     "output_type": "display_data"
    }
   ],
   "source": [
    "#We obtain the total amount of deaths by race\n",
    "df_total = df['race'].value_counts()\n",
    "\n",
    "#We get the total population by race\n",
    "aux = []\n",
    "races = ['White','Black','Hispanic','Asian','Native','Other']\n",
    "for race in races:\n",
    "    aux.append(pop[race + ' Pop'].sum())\n",
    "\n",
    "df_total = pd.DataFrame({'Deaths': df_total, 'Population': aux})\n",
    "\n",
    "#And we get the proportion and plot it\n",
    "df_total['Deaths/Population %'] = (df_total['Deaths']/df_total['Population'])*100\n",
    "df_total['Deaths/Population %'].plot(kind = 'bar')"
   ]
  },
  {
   "cell_type": "markdown",
   "metadata": {},
   "source": [
    "The difference with the previous graph is clear: The proportion of deaths to population is much higher when it comes to black and hispanic races, and even the natives seem to have a higher proportion than whites."
   ]
  },
  {
   "cell_type": "code",
   "execution_count": 26,
   "metadata": {},
   "outputs": [
    {
     "data": {
      "text/html": [
       "<div>\n",
       "<style scoped>\n",
       "    .dataframe tbody tr th:only-of-type {\n",
       "        vertical-align: middle;\n",
       "    }\n",
       "\n",
       "    .dataframe tbody tr th {\n",
       "        vertical-align: top;\n",
       "    }\n",
       "\n",
       "    .dataframe thead th {\n",
       "        text-align: right;\n",
       "    }\n",
       "</style>\n",
       "<table border=\"1\" class=\"dataframe\">\n",
       "  <thead>\n",
       "    <tr style=\"text-align: right;\">\n",
       "      <th></th>\n",
       "      <th>Deaths</th>\n",
       "      <th>Population</th>\n",
       "      <th>Deaths/Population %</th>\n",
       "    </tr>\n",
       "  </thead>\n",
       "  <tbody>\n",
       "    <tr>\n",
       "      <th>White</th>\n",
       "      <td>2476.0</td>\n",
       "      <td>2.101825e+08</td>\n",
       "      <td>0.001178</td>\n",
       "    </tr>\n",
       "    <tr>\n",
       "      <th>Black</th>\n",
       "      <td>1298.0</td>\n",
       "      <td>4.194607e+07</td>\n",
       "      <td>0.003094</td>\n",
       "    </tr>\n",
       "    <tr>\n",
       "      <th>Hispanic</th>\n",
       "      <td>902.0</td>\n",
       "      <td>2.824462e+07</td>\n",
       "      <td>0.003194</td>\n",
       "    </tr>\n",
       "    <tr>\n",
       "      <th>Asian</th>\n",
       "      <td>93.0</td>\n",
       "      <td>1.818129e+07</td>\n",
       "      <td>0.000512</td>\n",
       "    </tr>\n",
       "    <tr>\n",
       "      <th>Native</th>\n",
       "      <td>78.0</td>\n",
       "      <td>5.045872e+06</td>\n",
       "      <td>0.001546</td>\n",
       "    </tr>\n",
       "    <tr>\n",
       "      <th>Other</th>\n",
       "      <td>48.0</td>\n",
       "      <td>1.644792e+07</td>\n",
       "      <td>0.000292</td>\n",
       "    </tr>\n",
       "    <tr>\n",
       "      <th>Total</th>\n",
       "      <td>4895.0</td>\n",
       "      <td>3.200482e+08</td>\n",
       "      <td>0.001529</td>\n",
       "    </tr>\n",
       "  </tbody>\n",
       "</table>\n",
       "</div>"
      ],
      "text/plain": [
       "          Deaths    Population  Deaths/Population %\n",
       "White     2476.0  2.101825e+08             0.001178\n",
       "Black     1298.0  4.194607e+07             0.003094\n",
       "Hispanic   902.0  2.824462e+07             0.003194\n",
       "Asian       93.0  1.818129e+07             0.000512\n",
       "Native      78.0  5.045872e+06             0.001546\n",
       "Other       48.0  1.644792e+07             0.000292\n",
       "Total     4895.0  3.200482e+08             0.001529"
      ]
     },
     "execution_count": 26,
     "metadata": {},
     "output_type": "execute_result"
    },
    {
     "data": {
      "image/png": "[encoded data removed]",
      "text/plain": [
       "<Figure size 432x288 with 1 Axes>"
      ]
     },
     "metadata": {
      "needs_background": "light"
     },
     "output_type": "display_data"
    }
   ],
   "source": [
    "#We add a Total row, to check what would be the expected value given there was no bias by race\n",
    "df_total.loc['Total',:] = df_total.sum(axis = 0)# (total_deaths/total_pop)*100\n",
    "df_total.loc['Total','Deaths/Population %'] = 100*df_total.loc['Total','Deaths']/df_total.loc['Total','Population']\n",
    "\n",
    "#And plot it along the other\n",
    "x_pos = np.arange(len(df_total['Deaths']))\n",
    "plt.bar(x_pos, df_total['Deaths/Population %'], color = ['midnightblue',\n",
    "                                                         'midnightblue',\n",
    "                                                         'midnightblue',\n",
    "                                                         'midnightblue',\n",
    "                                                         'midnightblue',\n",
    "                                                         'midnightblue',\n",
    "                                                         'goldenrod'])\n",
    "plt.xticks(x_pos, df_total.index)\n",
    "plt.xlim((-1,len(df_total['Deaths']-1)))\n",
    "df_total\n"
   ]
  },
  {
   "cell_type": "markdown",
   "metadata": {},
   "source": [
    "So, we can visually see that there is a clear bias towards black and hispanic people, possibly indicating a racism factor in the killings"
   ]
  },
  {
   "cell_type": "markdown",
   "metadata": {},
   "source": [
    "It is of interest, as if there has been more racism in the recent years. Let's check visually first:"
   ]
  },
  {
   "cell_type": "code",
   "execution_count": 27,
   "metadata": {},
   "outputs": [],
   "source": [
    "#We create a year index\n",
    "df['Year'] = pd.DatetimeIndex(df['date']).year\n",
    "\n",
    "def plot_deaths_per_pop(df):\n",
    "    #We obtain the total amount of deaths by race\n",
    "    df_total = df['race'].value_counts()\n",
    "\n",
    "    #We get the total population by race\n",
    "    aux = []\n",
    "    races = ['White','Black','Hispanic','Asian','Native','Other']\n",
    "    for race in races:\n",
    "        aux.append(pop[race + ' Pop'].sum())\n",
    "\n",
    "    df_total = pd.DataFrame({'Deaths': df_total, 'Population': aux})\n",
    "\n",
    "    #And we get the proportion\n",
    "    df_total['Deaths/Population %'] = (df_total['Deaths']/df_total['Population'])*100\n",
    "\n",
    "    #We add a Total row, to check what would be the expected value given there was no bias by race\n",
    "    df_total.loc['Total',:] = df_total.sum(axis = 0)# (total_deaths/total_pop)*100\n",
    "    df_total.loc['Total','Deaths/Population %'] = 100*df_total.loc['Total','Deaths']/df_total.loc['Total','Population']\n",
    "\n",
    "    #And plot it along the other\n",
    "    x_pos = np.arange(len(df_total['Deaths']))\n",
    "    plt.bar(x_pos, df_total['Deaths/Population %'], color = ['midnightblue',\n",
    "                                                             'midnightblue',\n",
    "                                                             'midnightblue',\n",
    "                                                             'midnightblue',\n",
    "                                                             'midnightblue',\n",
    "                                                             'midnightblue',\n",
    "                                                             'goldenrod'])\n",
    "    plt.xlim((-1,len(df_total['Deaths']-1)))\n",
    "    plt.xticks(x_pos, df_total.index)"
   ]
  },
  {
   "cell_type": "code",
   "execution_count": 28,
   "metadata": {
    "scrolled": true
   },
   "outputs": [
    {
     "data": {
      "image/png": "[encoded data removed]",
      "text/plain": [
       "<Figure size 432x288 with 1 Axes>"
      ]
     },
     "metadata": {
      "needs_background": "light"
     },
     "output_type": "display_data"
    }
   ],
   "source": [
    "plot_deaths_per_pop(df[df['Year'] == 2015])"
   ]
  },
  {
   "cell_type": "code",
   "execution_count": 29,
   "metadata": {
    "scrolled": true
   },
   "outputs": [
    {
     "data": {
      "image/png": "[encoded data removed]",
      "text/plain": [
       "<Figure size 432x288 with 1 Axes>"
      ]
     },
     "metadata": {
      "needs_background": "light"
     },
     "output_type": "display_data"
    }
   ],
   "source": [
    "plot_deaths_per_pop(df[df['Year'] == 2016])"
   ]
  },
  {
   "cell_type": "code",
   "execution_count": 30,
   "metadata": {
    "scrolled": true
   },
   "outputs": [
    {
     "data": {
      "image/png": "[encoded data removed]",
      "text/plain": [
       "<Figure size 432x288 with 1 Axes>"
      ]
     },
     "metadata": {
      "needs_background": "light"
     },
     "output_type": "display_data"
    }
   ],
   "source": [
    "plot_deaths_per_pop(df[df['Year'] == 2017])"
   ]
  },
  {
   "cell_type": "code",
   "execution_count": 31,
   "metadata": {
    "scrolled": true
   },
   "outputs": [
    {
     "data": {
      "image/png": "[encoded data removed]",
      "text/plain": [
       "<Figure size 432x288 with 1 Axes>"
      ]
     },
     "metadata": {
      "needs_background": "light"
     },
     "output_type": "display_data"
    }
   ],
   "source": [
    "plot_deaths_per_pop(df[df['Year'] == 2018])"
   ]
  },
  {
   "cell_type": "code",
   "execution_count": 32,
   "metadata": {
    "scrolled": false
   },
   "outputs": [
    {
     "data": {
      "image/png": "[encoded data removed]",
      "text/plain": [
       "<Figure size 432x288 with 1 Axes>"
      ]
     },
     "metadata": {
      "needs_background": "light"
     },
     "output_type": "display_data"
    }
   ],
   "source": [
    "plot_deaths_per_pop(df[df['Year'] == 2019])"
   ]
  },
  {
   "cell_type": "code",
   "execution_count": 33,
   "metadata": {
    "scrolled": true
   },
   "outputs": [
    {
     "data": {
      "image/png": "[encoded data removed]",
      "text/plain": [
       "<Figure size 432x288 with 1 Axes>"
      ]
     },
     "metadata": {
      "needs_background": "light"
     },
     "output_type": "display_data"
    }
   ],
   "source": [
    "plot_deaths_per_pop(df[df['Year'] == 2020])"
   ]
  },
  {
   "cell_type": "markdown",
   "metadata": {},
   "source": [
    "Just by looking at the graphs, there really seems there is not a time component in the deaths per popolation."
   ]
  },
  {
   "cell_type": "code",
   "execution_count": 34,
   "metadata": {},
   "outputs": [
    {
     "data": {
      "image/png": "[encoded data removed]",
      "text/plain": [
       "<Figure size 432x288 with 1 Axes>"
      ]
     },
     "metadata": {
      "needs_background": "light"
     },
     "output_type": "display_data"
    }
   ],
   "source": [
    "# df_total = df[['race','Year']].value_counts()\n",
    "df_total = df.groupby(['Year','race']).count()\n",
    "df_total = df_total['name']\n",
    "\n",
    "#We get the total population by race\n",
    "aux = []\n",
    "races = ['Asian','Black','Hispanic','Native','Other', 'White']*6\n",
    "for race in races:\n",
    "    aux.append(pop[race + ' Pop'].sum())\n",
    "\n",
    "df_total = pd.DataFrame({'Deaths': df_total, 'Population': aux})\n",
    "\n",
    "#And we get the proportion and plot it\n",
    "df_total['Deaths/Population %'] = (df_total['Deaths']/df_total['Population'])*100\n",
    "\n",
    "#We\n",
    "n = np.arange(6)\n",
    "colors = ['r','y','b','midnightblue','g','black']\n",
    "linewidths = [1,1,1,1,1,3]\n",
    "for race,color,linewidth in zip(races,colors,linewidths):\n",
    "    plt.plot(n,\n",
    "             df_total.loc[([2015,2016,2017,2018,2019,2020],[race]),'Deaths/Population %'],\n",
    "             color,\n",
    "             linewidth = linewidth)\n",
    "    \n",
    "plt.xticks(n,[2015,2016,2017,2018,2019,2020])\n",
    "plt.legend(races)\n",
    "plt.show()"
   ]
  },
  {
   "cell_type": "markdown",
   "metadata": {},
   "source": [
    "We can see than see that on the year 2017, there seemed to be an increase tendency on Hispanic and Native people being killed. On later years, the tendency for Native people drastically went down, yet for Hispanics it was just reduced a by a little. On the contrary, the tendency for Black people seemed to be lowering, but it even went over Hispanic people on 2019."
   ]
  },
  {
   "cell_type": "markdown",
   "metadata": {},
   "source": [
    "We will now proceed to make a Logistic Regression, where the response variable will be: White vs Not White, and try to understand the influence that other variables. To choose which variables could be useful, we should take a look at them:"
   ]
  },
  {
   "cell_type": "code",
   "execution_count": 35,
   "metadata": {},
   "outputs": [
    {
     "data": {
      "text/html": [
       "<div>\n",
       "<style scoped>\n",
       "    .dataframe tbody tr th:only-of-type {\n",
       "        vertical-align: middle;\n",
       "    }\n",
       "\n",
       "    .dataframe tbody tr th {\n",
       "        vertical-align: top;\n",
       "    }\n",
       "\n",
       "    .dataframe thead th {\n",
       "        text-align: right;\n",
       "    }\n",
       "</style>\n",
       "<table border=\"1\" class=\"dataframe\">\n",
       "  <thead>\n",
       "    <tr style=\"text-align: right;\">\n",
       "      <th></th>\n",
       "      <th>name</th>\n",
       "      <th>date</th>\n",
       "      <th>manner_of_death</th>\n",
       "      <th>armed</th>\n",
       "      <th>age</th>\n",
       "      <th>gender</th>\n",
       "      <th>race</th>\n",
       "      <th>city</th>\n",
       "      <th>state</th>\n",
       "      <th>signs_of_mental_illness</th>\n",
       "      <th>threat_level</th>\n",
       "      <th>flee</th>\n",
       "      <th>body_camera</th>\n",
       "      <th>arms_category</th>\n",
       "      <th>was_fleeing</th>\n",
       "      <th>Year</th>\n",
       "    </tr>\n",
       "    <tr>\n",
       "      <th>id</th>\n",
       "      <th></th>\n",
       "      <th></th>\n",
       "      <th></th>\n",
       "      <th></th>\n",
       "      <th></th>\n",
       "      <th></th>\n",
       "      <th></th>\n",
       "      <th></th>\n",
       "      <th></th>\n",
       "      <th></th>\n",
       "      <th></th>\n",
       "      <th></th>\n",
       "      <th></th>\n",
       "      <th></th>\n",
       "      <th></th>\n",
       "      <th></th>\n",
       "    </tr>\n",
       "  </thead>\n",
       "  <tbody>\n",
       "    <tr>\n",
       "      <th>3</th>\n",
       "      <td>Tim Elliot</td>\n",
       "      <td>2015-01-02</td>\n",
       "      <td>shot</td>\n",
       "      <td>gun</td>\n",
       "      <td>53.0</td>\n",
       "      <td>M</td>\n",
       "      <td>Asian</td>\n",
       "      <td>Shelton</td>\n",
       "      <td>Washington</td>\n",
       "      <td>True</td>\n",
       "      <td>attack</td>\n",
       "      <td>Not fleeing</td>\n",
       "      <td>False</td>\n",
       "      <td>Guns</td>\n",
       "      <td>False</td>\n",
       "      <td>2015</td>\n",
       "    </tr>\n",
       "    <tr>\n",
       "      <th>4</th>\n",
       "      <td>Lewis Lee Lembke</td>\n",
       "      <td>2015-01-02</td>\n",
       "      <td>shot</td>\n",
       "      <td>gun</td>\n",
       "      <td>47.0</td>\n",
       "      <td>M</td>\n",
       "      <td>White</td>\n",
       "      <td>Aloha</td>\n",
       "      <td>Oregon</td>\n",
       "      <td>False</td>\n",
       "      <td>attack</td>\n",
       "      <td>Not fleeing</td>\n",
       "      <td>False</td>\n",
       "      <td>Guns</td>\n",
       "      <td>False</td>\n",
       "      <td>2015</td>\n",
       "    </tr>\n",
       "    <tr>\n",
       "      <th>5</th>\n",
       "      <td>John Paul Quintero</td>\n",
       "      <td>2015-01-03</td>\n",
       "      <td>shot and Tasered</td>\n",
       "      <td>unarmed</td>\n",
       "      <td>23.0</td>\n",
       "      <td>M</td>\n",
       "      <td>Hispanic</td>\n",
       "      <td>Wichita</td>\n",
       "      <td>Kansas</td>\n",
       "      <td>False</td>\n",
       "      <td>other</td>\n",
       "      <td>Not fleeing</td>\n",
       "      <td>False</td>\n",
       "      <td>Unarmed</td>\n",
       "      <td>False</td>\n",
       "      <td>2015</td>\n",
       "    </tr>\n",
       "    <tr>\n",
       "      <th>8</th>\n",
       "      <td>Matthew Hoffman</td>\n",
       "      <td>2015-01-04</td>\n",
       "      <td>shot</td>\n",
       "      <td>toy weapon</td>\n",
       "      <td>32.0</td>\n",
       "      <td>M</td>\n",
       "      <td>White</td>\n",
       "      <td>San Francisco</td>\n",
       "      <td>California</td>\n",
       "      <td>True</td>\n",
       "      <td>attack</td>\n",
       "      <td>Not fleeing</td>\n",
       "      <td>False</td>\n",
       "      <td>Other unusual objects</td>\n",
       "      <td>False</td>\n",
       "      <td>2015</td>\n",
       "    </tr>\n",
       "    <tr>\n",
       "      <th>9</th>\n",
       "      <td>Michael Rodriguez</td>\n",
       "      <td>2015-01-04</td>\n",
       "      <td>shot</td>\n",
       "      <td>nail gun</td>\n",
       "      <td>39.0</td>\n",
       "      <td>M</td>\n",
       "      <td>Hispanic</td>\n",
       "      <td>Evans</td>\n",
       "      <td>Colorado</td>\n",
       "      <td>False</td>\n",
       "      <td>attack</td>\n",
       "      <td>Not fleeing</td>\n",
       "      <td>False</td>\n",
       "      <td>Piercing objects</td>\n",
       "      <td>False</td>\n",
       "      <td>2015</td>\n",
       "    </tr>\n",
       "  </tbody>\n",
       "</table>\n",
       "</div>"
      ],
      "text/plain": [
       "                  name       date   manner_of_death       armed   age gender  \\\n",
       "id                                                                             \n",
       "3           Tim Elliot 2015-01-02              shot         gun  53.0      M   \n",
       "4     Lewis Lee Lembke 2015-01-02              shot         gun  47.0      M   \n",
       "5   John Paul Quintero 2015-01-03  shot and Tasered     unarmed  23.0      M   \n",
       "8      Matthew Hoffman 2015-01-04              shot  toy weapon  32.0      M   \n",
       "9    Michael Rodriguez 2015-01-04              shot    nail gun  39.0      M   \n",
       "\n",
       "        race           city       state  signs_of_mental_illness threat_level  \\\n",
       "id                                                                              \n",
       "3      Asian        Shelton  Washington                     True       attack   \n",
       "4      White          Aloha      Oregon                    False       attack   \n",
       "5   Hispanic        Wichita      Kansas                    False        other   \n",
       "8      White  San Francisco  California                     True       attack   \n",
       "9   Hispanic          Evans    Colorado                    False       attack   \n",
       "\n",
       "           flee  body_camera          arms_category  was_fleeing  Year  \n",
       "id                                                                      \n",
       "3   Not fleeing        False                   Guns        False  2015  \n",
       "4   Not fleeing        False                   Guns        False  2015  \n",
       "5   Not fleeing        False                Unarmed        False  2015  \n",
       "8   Not fleeing        False  Other unusual objects        False  2015  \n",
       "9   Not fleeing        False       Piercing objects        False  2015  "
      ]
     },
     "execution_count": 35,
     "metadata": {},
     "output_type": "execute_result"
    }
   ],
   "source": [
    "df.head()"
   ]
  },
  {
   "cell_type": "code",
   "execution_count": 36,
   "metadata": {},
   "outputs": [
    {
     "data": {
      "text/plain": [
       "shot                4647\n",
       "shot and Tasered     248\n",
       "Name: manner_of_death, dtype: int64"
      ]
     },
     "execution_count": 36,
     "metadata": {},
     "output_type": "execute_result"
    }
   ],
   "source": [
    "df['manner_of_death'].value_counts() # Perhaps not so relevant, given the low amount of values for 'shot and Tasered'"
   ]
  },
  {
   "cell_type": "code",
   "execution_count": 37,
   "metadata": {},
   "outputs": [
    {
     "data": {
      "text/plain": [
       "gun                   2755\n",
       "knife                  708\n",
       "unknown                418\n",
       "unarmed                348\n",
       "toy weapon             171\n",
       "                      ... \n",
       "bean-bag gun             1\n",
       "chainsaw                 1\n",
       "gun and sword            1\n",
       "fireworks                1\n",
       "BB gun and vehicle       1\n",
       "Name: armed, Length: 89, dtype: int64"
      ]
     },
     "execution_count": 37,
     "metadata": {},
     "output_type": "execute_result"
    }
   ],
   "source": [
    "df['armed'].value_counts() #Too many levels. Thankfully, a category variable was added."
   ]
  },
  {
   "cell_type": "code",
   "execution_count": 38,
   "metadata": {},
   "outputs": [
    {
     "data": {
      "text/plain": [
       "([<matplotlib.axis.XTick at 0x18cdb2e8c70>,\n",
       "  <matplotlib.axis.XTick at 0x18cdb2e8c40>,\n",
       "  <matplotlib.axis.XTick at 0x18cdb237af0>,\n",
       "  <matplotlib.axis.XTick at 0x18cdb318730>,\n",
       "  <matplotlib.axis.XTick at 0x18cdb318a90>,\n",
       "  <matplotlib.axis.XTick at 0x18cdb318fa0>],\n",
       " [Text(0, 0, 'Asian'),\n",
       "  Text(1, 0, 'Black'),\n",
       "  Text(2, 0, 'Hispanic'),\n",
       "  Text(3, 0, 'Native'),\n",
       "  Text(4, 0, 'Other'),\n",
       "  Text(5, 0, 'White')])"
      ]
     },
     "execution_count": 38,
     "metadata": {},
     "output_type": "execute_result"
    },
    {
     "data": {
      "image/png": "[encoded data removed]",
      "text/plain": [
       "<Figure size 432x288 with 1 Axes>"
      ]
     },
     "metadata": {
      "needs_background": "light"
     },
     "output_type": "display_data"
    }
   ],
   "source": [
    "df['arms_category'].value_counts() #Yet, this one wahs a bit too many levels.\n",
    "\n",
    "#As a sidebar, we observe how does the deaths/population ratio behaves on individuals who were murdered unarmed.\n",
    "#The reason for this is, if he or she was unnarmed, perhaps other measures could be taken, so death would be indicative of\n",
    "#a certainb bias towards that individual.\n",
    "plt.bar(np.arange(6),100*(df[df['arms_category'] == 'Unarmed'].groupby('race').count()['name']/df_total.loc[2015,'Population']))\n",
    "plt.xticks(np.arange(6),['Asian','Black','Hispanic','Native','Other', 'White'])\n",
    "\n",
    "#We do see a much higher ratio for Black people, considerably higher than even Hispanics. Yet, we will not use this variable\n",
    "#on the analysis."
   ]
  },
  {
   "cell_type": "code",
   "execution_count": 39,
   "metadata": {},
   "outputs": [
    {
     "name": "stdout",
     "output_type": "stream",
     "text": [
      "attack          3160\n",
      "other           1528\n",
      "undetermined     207\n",
      "Name: threat_level, dtype: int64\n"
     ]
    },
    {
     "data": {
      "text/plain": [
       "True     3299\n",
       "False    1596\n",
       "Name: was_attacking, dtype: int64"
      ]
     },
     "execution_count": 39,
     "metadata": {},
     "output_type": "execute_result"
    }
   ],
   "source": [
    "print(df['threat_level'].value_counts()) #This variable will prove useful, given its simplicity to model and the fact that\n",
    "# killing someone who wasn't 'attacking' (so perhaps robbing, fleeing) might show bias towards that person.\n",
    "\n",
    "#Given the ambiguity of 'undetermined', and due to the convinience of having a boolean variable, we will create a new column\n",
    "#on which we will work, in which we will split the level randomly, by the weights of the other two. The new column will be True\n",
    "#if the individual was attacking, and False otherwise\n",
    "import random\n",
    "\n",
    "def split_undetermined(s):\n",
    "    x = ''\n",
    "    l = ['attack']*3160 + ['other']*1528\n",
    "    if s == 'attack':\n",
    "        x = 'attack'\n",
    "    elif s == 'other':\n",
    "        x = 'other'\n",
    "    else:\n",
    "        x = random.choice(l)\n",
    "    return x\n",
    "\n",
    "df['was_attacking'] = [split_undetermined(x) == 'attack' for x in df['threat_level']]\n",
    "df['was_attacking'].value_counts()"
   ]
  },
  {
   "cell_type": "markdown",
   "metadata": {},
   "source": [
    "There are some variables which we will not take into account so as to make the model more pasimonius, and because we don't consider them as relevant as the others for the purpose of the analysis. Thus, we make a reduced DF to more easily visualize the variables we will use."
   ]
  },
  {
   "cell_type": "code",
   "execution_count": 40,
   "metadata": {},
   "outputs": [
    {
     "data": {
      "text/html": [
       "<div>\n",
       "<style scoped>\n",
       "    .dataframe tbody tr th:only-of-type {\n",
       "        vertical-align: middle;\n",
       "    }\n",
       "\n",
       "    .dataframe tbody tr th {\n",
       "        vertical-align: top;\n",
       "    }\n",
       "\n",
       "    .dataframe thead th {\n",
       "        text-align: right;\n",
       "    }\n",
       "</style>\n",
       "<table border=\"1\" class=\"dataframe\">\n",
       "  <thead>\n",
       "    <tr style=\"text-align: right;\">\n",
       "      <th></th>\n",
       "      <th>race</th>\n",
       "      <th>signs_of_mental_illness</th>\n",
       "      <th>was_attacking</th>\n",
       "      <th>was_fleeing</th>\n",
       "      <th>body_camera</th>\n",
       "      <th>Year</th>\n",
       "    </tr>\n",
       "    <tr>\n",
       "      <th>id</th>\n",
       "      <th></th>\n",
       "      <th></th>\n",
       "      <th></th>\n",
       "      <th></th>\n",
       "      <th></th>\n",
       "      <th></th>\n",
       "    </tr>\n",
       "  </thead>\n",
       "  <tbody>\n",
       "    <tr>\n",
       "      <th>3</th>\n",
       "      <td>Asian</td>\n",
       "      <td>True</td>\n",
       "      <td>True</td>\n",
       "      <td>False</td>\n",
       "      <td>False</td>\n",
       "      <td>2015</td>\n",
       "    </tr>\n",
       "    <tr>\n",
       "      <th>4</th>\n",
       "      <td>White</td>\n",
       "      <td>False</td>\n",
       "      <td>True</td>\n",
       "      <td>False</td>\n",
       "      <td>False</td>\n",
       "      <td>2015</td>\n",
       "    </tr>\n",
       "    <tr>\n",
       "      <th>5</th>\n",
       "      <td>Hispanic</td>\n",
       "      <td>False</td>\n",
       "      <td>False</td>\n",
       "      <td>False</td>\n",
       "      <td>False</td>\n",
       "      <td>2015</td>\n",
       "    </tr>\n",
       "    <tr>\n",
       "      <th>8</th>\n",
       "      <td>White</td>\n",
       "      <td>True</td>\n",
       "      <td>True</td>\n",
       "      <td>False</td>\n",
       "      <td>False</td>\n",
       "      <td>2015</td>\n",
       "    </tr>\n",
       "    <tr>\n",
       "      <th>9</th>\n",
       "      <td>Hispanic</td>\n",
       "      <td>False</td>\n",
       "      <td>True</td>\n",
       "      <td>False</td>\n",
       "      <td>False</td>\n",
       "      <td>2015</td>\n",
       "    </tr>\n",
       "  </tbody>\n",
       "</table>\n",
       "</div>"
      ],
      "text/plain": [
       "        race  signs_of_mental_illness  was_attacking  was_fleeing  \\\n",
       "id                                                                  \n",
       "3      Asian                     True           True        False   \n",
       "4      White                    False           True        False   \n",
       "5   Hispanic                    False          False        False   \n",
       "8      White                     True           True        False   \n",
       "9   Hispanic                    False           True        False   \n",
       "\n",
       "    body_camera  Year  \n",
       "id                     \n",
       "3         False  2015  \n",
       "4         False  2015  \n",
       "5         False  2015  \n",
       "8         False  2015  \n",
       "9         False  2015  "
      ]
     },
     "execution_count": 40,
     "metadata": {},
     "output_type": "execute_result"
    }
   ],
   "source": [
    "df_log = df[['race','signs_of_mental_illness','was_attacking','was_fleeing','body_camera','Year']]\n",
    "df_log.head()"
   ]
  },
  {
   "cell_type": "markdown",
   "metadata": {},
   "source": [
    "We have seen a tendency towards Black and Hispanics. However, for the time given, let's consider the analysis of White vs Non White."
   ]
  },
  {
   "cell_type": "code",
   "execution_count": 41,
   "metadata": {},
   "outputs": [
    {
     "name": "stdout",
     "output_type": "stream",
     "text": [
      "      signs_of_mental_illness  was_attacking  was_fleeing  body_camera  Year\n",
      "id                                                                          \n",
      "3                        True           True        False        False   0.0\n",
      "4                       False           True        False        False   0.0\n",
      "5                       False          False        False        False   0.0\n",
      "8                        True           True        False        False   0.0\n",
      "9                       False           True        False        False   0.0\n",
      "...                       ...            ...          ...          ...   ...\n",
      "5916                    False           True         True         True   1.0\n",
      "5925                    False           True         True        False   1.0\n",
      "5918                    False          False        False        False   1.0\n",
      "5921                    False          False         True        False   1.0\n",
      "5924                    False           True         True        False   1.0\n",
      "\n",
      "[4895 rows x 5 columns]\n",
      "id\n",
      "3       False\n",
      "4        True\n",
      "5       False\n",
      "8        True\n",
      "9       False\n",
      "        ...  \n",
      "5916    False\n",
      "5925    False\n",
      "5918     True\n",
      "5921     True\n",
      "5924     True\n",
      "Name: was_white, Length: 4895, dtype: bool\n"
     ]
    },
    {
     "name": "stderr",
     "output_type": "stream",
     "text": [
      "<ipython-input-41-e9cdcaf58182>:1: SettingWithCopyWarning: \n",
      "A value is trying to be set on a copy of a slice from a DataFrame.\n",
      "Try using .loc[row_indexer,col_indexer] = value instead\n",
      "\n",
      "See the caveats in the documentation: https://pandas.pydata.org/pandas-docs/stable/user_guide/indexing.html#returning-a-view-versus-a-copy\n",
      "  df_log['was_white'] = [x == 'White' for x in df_log['race']]\n",
      "<ipython-input-41-e9cdcaf58182>:3: SettingWithCopyWarning: \n",
      "A value is trying to be set on a copy of a slice from a DataFrame.\n",
      "Try using .loc[row_indexer,col_indexer] = value instead\n",
      "\n",
      "See the caveats in the documentation: https://pandas.pydata.org/pandas-docs/stable/user_guide/indexing.html#returning-a-view-versus-a-copy\n",
      "  df_log['Year'] = (df_log['Year'] - 2015)/5\n"
     ]
    }
   ],
   "source": [
    "df_log['was_white'] = [x == 'White' for x in df_log['race']]\n",
    "# Also, we scale the Year so that its estimator is relatively more precise: (year - min)/(max - min)\n",
    "df_log['Year'] = (df_log['Year'] - 2015)/5\n",
    "\n",
    "X = df_log[['signs_of_mental_illness','was_attacking','was_fleeing','body_camera','Year']]\n",
    "y = df_log['was_white']\n",
    "\n",
    "print(X)\n",
    "print(y)"
   ]
  },
  {
   "cell_type": "code",
   "execution_count": 42,
   "metadata": {},
   "outputs": [],
   "source": [
    "X_train, X_test, y_train, y_test = train_test_split(X, y, test_size=0.2, random_state=0)"
   ]
  },
  {
   "cell_type": "markdown",
   "metadata": {},
   "source": [
    "We perform the Logistic Regression. The following code was obtained from: https://realpython.com/logistic-regression-python/"
   ]
  },
  {
   "cell_type": "code",
   "execution_count": 49,
   "metadata": {},
   "outputs": [],
   "source": [
    "model = LogisticRegression(solver='liblinear', random_state=0).fit(X_train, y_train)"
   ]
  },
  {
   "cell_type": "code",
   "execution_count": 51,
   "metadata": {},
   "outputs": [
    {
     "data": {
      "text/plain": [
       "array([False,  True])"
      ]
     },
     "execution_count": 51,
     "metadata": {},
     "output_type": "execute_result"
    }
   ],
   "source": [
    "model.classes_"
   ]
  },
  {
   "cell_type": "code",
   "execution_count": 53,
   "metadata": {},
   "outputs": [
    {
     "data": {
      "text/plain": [
       "array([-0.1387264])"
      ]
     },
     "execution_count": 53,
     "metadata": {},
     "output_type": "execute_result"
    }
   ],
   "source": [
    "model.intercept_"
   ]
  },
  {
   "cell_type": "code",
   "execution_count": 56,
   "metadata": {},
   "outputs": [
    {
     "name": "stdout",
     "output_type": "stream",
     "text": [
      "[[ 0.76248812  0.15685323 -0.22488626 -0.4944421   0.10607759]]\n"
     ]
    },
    {
     "data": {
      "text/plain": [
       "Index(['signs_of_mental_illness', 'was_attacking', 'was_fleeing',\n",
       "       'body_camera', 'Year'],\n",
       "      dtype='object')"
      ]
     },
     "execution_count": 56,
     "metadata": {},
     "output_type": "execute_result"
    }
   ],
   "source": [
    "print(model.coef_)\n",
    "X.columns"
   ]
  },
  {
   "cell_type": "markdown",
   "metadata": {},
   "source": [
    "### Notes : \n",
    "\n",
    "i. The date for this data is 2015. However, our database has registers spanning from 2015 to 2020. It would be best to acquire data for all years, and get different proportions for every corresponding year."
   ]
  },
  {
   "cell_type": "markdown",
   "metadata": {},
   "source": [
    "### Areas of Impovement :\n",
    "1. An analysis could be performed to verify which of the states seemes to have more racist tendencies.\n",
    "2. Even though we acquired the coefficients for the logistic regression, we didn't really explore them. A lot could be revealed from the further inspection of these."
   ]
  }
 ],
 "metadata": {
  "kernelspec": {
   "display_name": "Python 3",
   "language": "python",
   "name": "python3"
  },
  "language_info": {
   "codemirror_mode": {
    "name": "ipython",
    "version": 3
   },
   "file_extension": ".py",
   "mimetype": "text/x-python",
   "name": "python",
   "nbconvert_exporter": "python",
   "pygments_lexer": "ipython3",
   "version": "3.8.5"
  }
 },
 "nbformat": 4,
 "nbformat_minor": 4
}
